{
 "cells": [
  {
   "cell_type": "markdown",
   "metadata": {},
   "source": [
    "## Project 3: Classification of Gender based on Names"
   ]
  },
  {
   "cell_type": "markdown",
   "metadata": {},
   "source": [
    "This is a collaborative project conducted by the Fall 2017 students of DATA 620 at The City University of New York, in partial fulfillment of the requirements for the MS in Data Science degree."
   ]
  },
  {
   "cell_type": "markdown",
   "metadata": {},
   "source": [
    "## Problem Description"
   ]
  },
  {
   "cell_type": "markdown",
   "metadata": {},
   "source": [
    "Using any of the three classifiers described in chapter 6 of Natural Language Processing with Python, and any features you can think of, build the best name gender classifier you can. Begin by splitting the Names Corpus into three subsets: 500 words for the test set, 500 words for the dev-test set, and the remaining 6900 words for the training set. Then, starting with the example name gender classifier, make incremental improvements. Use the dev-test set to check your progress. Once you are satisfied with your classifier, check its final performance on the test set. How does the performance on the test set compare to the performance on the dev-test set? Is this what you'd expect?  \n",
    "\n",
    "Source: Natural Language Processing with Python, exercise 6.10.2.  \n",
    "\n"
   ]
  },
  {
   "cell_type": "markdown",
   "metadata": {},
   "source": [
    "#### Contributors Include"
   ]
  },
  {
   "cell_type": "markdown",
   "metadata": {},
   "source": [
    "+ K. Joy Payton  \n",
    "+ Keith Folsom  \n",
    "+ Sonya Hong  \n",
    "+ Shyam Balagurumurthy Viswanathan  \n",
    "+ Derek Nokes  \n",
    "+ Liam Byrne  \n",
    "+ Latif Masud  \n",
    "+ Valerie Briot  "
   ]
  },
  {
   "cell_type": "markdown",
   "metadata": {},
   "source": [
    "## Importing the Packages  "
   ]
  },
  {
   "cell_type": "markdown",
   "metadata": {},
   "source": [
    "Since we all used Anaconda's Python version, i.e. Conda Kernel, which comes pre-installed with most of the packages we need, we can simply import them into our notebook. textstat doesn't come with the base insallation, so we have to download it before importing it:"
   ]
  },
  {
   "cell_type": "code",
   "execution_count": null,
   "metadata": {},
   "outputs": [],
   "source": [
    "# Uncomment if textstat is not installed\n",
    "#! pip install textstat"
   ]
  },
  {
   "cell_type": "code",
   "execution_count": 1,
   "metadata": {},
   "outputs": [],
   "source": [
    "# Importing required libraries/packages\n",
    "import nltk\n",
    "from nltk.corpus import names\n",
    "import random\n",
    "import numpy\n",
    "import pandas\n",
    "\n",
    "from nltk.metrics import *\n",
    "\n",
    "import re\n",
    "    \n",
    "import operator\n",
    "import string\n",
    "from textstat.textstat import textstat\n",
    "\n",
    "from sklearn.metrics import classification_report\n",
    "from sklearn.metrics import confusion_matrix\n",
    "\n",
    "import matplotlib.pyplot as plt\n",
    "import itertools\n",
    "\n",
    "# set display digits\n",
    "display_digits=4\n",
    "\n",
    "\n",
    "# inline matplotlib\n",
    "%matplotlib inline"
   ]
  },
  {
   "cell_type": "markdown",
   "metadata": {},
   "source": [
    "## Obtaining the Corpus"
   ]
  },
  {
   "cell_type": "markdown",
   "metadata": {},
   "source": [
    "Note: If not already executed, nltk.download() will allow you access to the names corpus"
   ]
  },
  {
   "cell_type": "code",
   "execution_count": 2,
   "metadata": {},
   "outputs": [
    {
     "name": "stdout",
     "output_type": "stream",
     "text": [
      "[nltk_data] Downloading package names to\n",
      "[nltk_data]     C:\\Users\\Liam\\AppData\\Roaming\\nltk_data...\n",
      "[nltk_data]   Package names is already up-to-date!\n"
     ]
    },
    {
     "data": {
      "text/plain": [
       "True"
      ]
     },
     "execution_count": 2,
     "metadata": {},
     "output_type": "execute_result"
    }
   ],
   "source": [
    "nltk.download('names')"
   ]
  },
  {
   "cell_type": "markdown",
   "metadata": {},
   "source": [
    "To start, we will use NLTK's provided library of male and female names, and shuffle our dataset:"
   ]
  },
  {
   "cell_type": "code",
   "execution_count": 3,
   "metadata": {
    "collapsed": true
   },
   "outputs": [],
   "source": [
    "names_lst = ([(name, 'male') for name in names.words('male.txt')] + \\\n",
    "         [(name, 'female') for name in names.words('female.txt')])"
   ]
  },
  {
   "cell_type": "markdown",
   "metadata": {},
   "source": [
    "A random shuffle of the corpus lets us see a sample of the data that we will be working with."
   ]
  },
  {
   "cell_type": "code",
   "execution_count": 5,
   "metadata": {},
   "outputs": [
    {
     "data": {
      "text/plain": [
       "[(u'Gelya', 'female'),\n",
       " (u'Dacie', 'female'),\n",
       " (u'Spud', 'male'),\n",
       " (u'Ingrid', 'female'),\n",
       " (u'Tome', 'male'),\n",
       " (u'Delora', 'female'),\n",
       " (u'Gail', 'female'),\n",
       " (u'Manfred', 'male'),\n",
       " (u'Bernd', 'male')]"
      ]
     },
     "execution_count": 5,
     "metadata": {},
     "output_type": "execute_result"
    }
   ],
   "source": [
    "random_seed=1534678\n",
    "random.seed(random_seed)\n",
    "random.shuffle(names_lst)\n",
    "\n",
    "# let's see what the randomly shuffles names look like\n",
    "names_lst[1:10]"
   ]
  },
  {
   "cell_type": "markdown",
   "metadata": {},
   "source": [
    "## Splitting the Data\n",
    "\n",
    "In order to develop out model, we need to split our data into three different subsets to be used for different purposes. There are 7944 names in the entire dataset. 7444 of the entries will be for development purposes (6900 for training and 500 for testing) and remaining 500 will be for testing of a final model.\n",
    "\n",
    "##### Development set:\n",
    "* 6900 names for the training (train_names)\n",
    "* 500 names for the testing (devtest_names)  \n",
    "\n",
    "##### Test set:\n",
    "* 500 names for the testing (test_names)"
   ]
  },
  {
   "cell_type": "code",
   "execution_count": 6,
   "metadata": {
    "collapsed": true
   },
   "outputs": [],
   "source": [
    "test_names, devtest_names, train_names = names_lst[0:500], names_lst[500:1000], names_lst[1000:]"
   ]
  },
  {
   "cell_type": "markdown",
   "metadata": {},
   "source": [
    "We confirm below that our data has been split accordingly."
   ]
  },
  {
   "cell_type": "code",
   "execution_count": 7,
   "metadata": {},
   "outputs": [
    {
     "name": "stdout",
     "output_type": "stream",
     "text": [
      "Training Set = 6944\n",
      "Dev-Test Set = 500\n",
      "Test Set = 500\n"
     ]
    }
   ],
   "source": [
    "# Confirm the size of the three subsets\n",
    "print(\"Training Set = {}\".format(len(train_names)))\n",
    "print(\"Dev-Test Set = {}\".format(len(devtest_names)))\n",
    "print(\"Test Set = {}\".format(len(test_names)))"
   ]
  },
  {
   "cell_type": "markdown",
   "metadata": {},
   "source": [
    "### Data Exploration  \n",
    "\n",
    "We will initially explore some features of the names in order to determine if there are obvious indicators of gender. We can see the distribution of females and males in our training set as follows:"
   ]
  },
  {
   "cell_type": "code",
   "execution_count": 12,
   "metadata": {},
   "outputs": [
    {
     "data": {
      "text/plain": [
       "FreqDist({'female': 4380, 'male': 2564})"
      ]
     },
     "execution_count": 12,
     "metadata": {},
     "output_type": "execute_result"
    }
   ],
   "source": [
    "train_set_gold = [g  for (n, g) in train_names]\n",
    "nltk.FreqDist(train_set_gold)"
   ]
  },
  {
   "cell_type": "markdown",
   "metadata": {},
   "source": [
    "#### 1. First Letter  \n",
    "\n",
    "An obvious feature within a name that could be a good indicator of gender would be the first letter within a name.The following will plot the frequency of first letters in regards to gender."
   ]
  },
  {
   "cell_type": "code",
   "execution_count": 217,
   "metadata": {},
   "outputs": [
    {
     "data": {
      "image/png": "[encoded data removed]",
      "text/plain": [
       "<matplotlib.figure.Figure at 0x56cce5f8>"
      ]
     },
     "metadata": {},
     "output_type": "display_data"
    }
   ],
   "source": [
    "# firstletter\n",
    "cfd_firstletter = nltk.ConditionalFreqDist(\n",
    "    (gender, name[0].lower()) for name, gender in train_names)\n",
    "\n",
    "# Normalize for male and female data\n",
    "fem_count = float(len([gender for name, gender in train_names if gender == 'female']))\n",
    "male_count = float(len([gender for name, gender in train_names if gender == 'male']))\n",
    "\n",
    "for i in [counts for gender,counts in [i for i in cfd_firstletter.iteritems()] if gender == 'male']:\n",
    "    for freq in i.values():\n",
    "        freq = freq/male_count\n",
    "        \n",
    "for i in [counts for gender,counts in [i for i in cfd_firstletter.iteritems()] if gender == 'female']:\n",
    "    for freq in i.values():\n",
    "        freq = freq/fem_count\n",
    "\n",
    "# define title\n",
    "titleName='firstletter'\n",
    "\n",
    "# set figure size\n",
    "plt.figure(figsize=(10,3))\n",
    "# add title\n",
    "plt.title(titleName)\n",
    "# add conditional frequency distribution\n",
    "cfd_firstletter.plot()"
   ]
  },
  {
   "cell_type": "markdown",
   "metadata": {},
   "source": [
    "From the plot, we can observe that more female names begin with 'a', 'c', and 'm'"
   ]
  },
  {
   "cell_type": "markdown",
   "metadata": {},
   "source": [
    "#### 2. Last Letter"
   ]
  },
  {
   "cell_type": "code",
   "execution_count": 233,
   "metadata": {},
   "outputs": [
    {
     "data": {
      "image/png": "[encoded data removed]",
      "text/plain": [
       "<matplotlib.figure.Figure at 0xd80ee48>"
      ]
     },
     "metadata": {},
     "output_type": "display_data"
    }
   ],
   "source": [
    "# lastletter\n",
    "cfd_lastletter = nltk.ConditionalFreqDist(\n",
    "    (gender, name[-1].lower()) for name, gender in train_names)\n",
    "\n",
    "# define title\n",
    "titleName='LastLetter'\n",
    "\n",
    "# set figure size\n",
    "plt.figure(figsize=(10,3))\n",
    "# add title\n",
    "plt.title(titleName)\n",
    "# add conditional frequency distribution\n",
    "cfd_lastletter.plot()"
   ]
  },
  {
   "cell_type": "markdown",
   "metadata": {},
   "source": [
    "Names ending with letters 'a' and 'e' appear to be a good indicator of a female"
   ]
  },
  {
   "cell_type": "markdown",
   "metadata": {
    "collapsed": true
   },
   "source": [
    "#### 3. First 2 letters  "
   ]
  },
  {
   "cell_type": "code",
   "execution_count": 228,
   "metadata": {
    "scrolled": true
   },
   "outputs": [
    {
     "data": {
      "image/png": "[encoded data removed]",
      "text/plain": [
       "<matplotlib.figure.Figure at 0x48e7f5c0>"
      ]
     },
     "metadata": {},
     "output_type": "display_data"
    }
   ],
   "source": [
    "# first2Letters\n",
    "cfd_first2Letters = nltk.ConditionalFreqDist(\n",
    "    (gender, name[:2].lower()) for name, gender in train_names)\n",
    "\n",
    "# define title\n",
    "titleName='first2Letters'\n",
    "\n",
    "# set figure size\n",
    "plt.figure(figsize=(40,10))\n",
    "# add title\n",
    "plt.title(titleName)\n",
    "# add conditional frequency distribution\n",
    "cfd_first2Letters.plot()"
   ]
  },
  {
   "cell_type": "markdown",
   "metadata": {},
   "source": [
    "There seems to be some deviation in the last two letters between male and female, We will explore this feature further as it is hard to decipher from the output."
   ]
  },
  {
   "cell_type": "markdown",
   "metadata": {},
   "source": [
    "#### 4. Length  "
   ]
  },
  {
   "cell_type": "code",
   "execution_count": 229,
   "metadata": {},
   "outputs": [
    {
     "data": {
      "image/png": "[encoded data removed]",
      "text/plain": [
       "<matplotlib.figure.Figure at 0x4598b978>"
      ]
     },
     "metadata": {},
     "output_type": "display_data"
    }
   ],
   "source": [
    "# length\n",
    "cfd_length = nltk.ConditionalFreqDist(\n",
    "    (gender, len(name)) for name, gender in train_names)\n",
    "\n",
    "# define title\n",
    "titleName='length'\n",
    "\n",
    "# set figure size\n",
    "plt.figure(figsize=(10,3))\n",
    "# add title\n",
    "plt.title(titleName)\n",
    "# add conditional frequency distribution\n",
    "cfd_length.plot()"
   ]
  },
  {
   "cell_type": "markdown",
   "metadata": {},
   "source": [
    "The length does not appear to be a great indicator of gender on its own."
   ]
  },
  {
   "cell_type": "markdown",
   "metadata": {},
   "source": [
    "#### 5. Vowel Counts"
   ]
  },
  {
   "cell_type": "code",
   "execution_count": 236,
   "metadata": {},
   "outputs": [
    {
     "data": {
      "image/png": "[encoded data removed]",
      "text/plain": [
       "<matplotlib.figure.Figure at 0xf805f98>"
      ]
     },
     "metadata": {},
     "output_type": "display_data"
    }
   ],
   "source": [
    "# Vowel Counts\n",
    "cfd_vowels = nltk.ConditionalFreqDist(\n",
    "    (gender, len(re.sub(r'[^aeiou]', '', name.lower()))) for name, gender in train_names)\n",
    "\n",
    "# define title\n",
    "titleName='length'\n",
    "\n",
    "# set figure size\n",
    "plt.figure(figsize=(10,3))\n",
    "# add title\n",
    "plt.title(titleName)\n",
    "# add conditional frequency distribution\n",
    "cfd_vowels.plot()"
   ]
  },
  {
   "cell_type": "markdown",
   "metadata": {},
   "source": [
    "The females tend to have more vowels in their name over men."
   ]
  },
  {
   "cell_type": "markdown",
   "metadata": {},
   "source": [
    "### Exploratory Conclusions\n",
    "\n",
    "The above observations of some features was a good starting point for feature selection, but these features do not appear to be good predictors of gender on their own; we need more advanced tools in order to build a good model. We will build a feature extractor for multiple features  and then use some introductory machine learning methods to create an optimum model."
   ]
  },
  {
   "cell_type": "markdown",
   "metadata": {},
   "source": [
    "### Feature Extractor Functions\n",
    "\n",
    "This section below is to incrementallly improve the feature extraction functions which are subsequently applied to the development and test datasets.  \n",
    "\n",
    "Based on various example in the literature and analysis above, we will initiate our model building the the following features;  \n",
    "\n",
    "1. First Letter, most names begining with a vowel are associated with females\n",
    "2. First 2 letters\n",
    "3. Last letter\n",
    "4. Last 2 letters\n",
    "5. Last 3 letters\n",
    "6. Vowels count\n",
    "7. Hard consonants using general rules of c and g\n",
    "8. Soft consonants using general rules of c and g\n",
    "9. Syllable Count of names via textstat\n",
    "10. Name length\n",
    "11. Character count\n",
    "12. Character present\n",
    "13. Count of each letter\n",
    "14. Count of pair of letters in the alphabet\n",
    "\n",
    "We built an function that will return a single feature or a combination of features based on input feature numbers\n"
   ]
  },
  {
   "cell_type": "code",
   "execution_count": 234,
   "metadata": {
    "collapsed": true
   },
   "outputs": [],
   "source": [
    "def get_features(name,feat_num):\n",
    "    '''\n",
    "    Parameters:\n",
    "        name - string of name to extract feature\n",
    "        feat_num - itterable collection of integers specifying features. *Defaults to 1:9 inclusive\n",
    "            1: first letter\n",
    "            2: first 2 letters\n",
    "            3: last letter\n",
    "            4: last 2 letters\n",
    "            5: last 3 letters\n",
    "            6: Vowel counts\n",
    "            7: Hard consonant count\n",
    "            8: Soft consonant count\n",
    "            9: Syllable Count\n",
    "            10: Name length\n",
    "            11: char count --> feature for all alpha chars\n",
    "            12: char present --> feature for all alpha chars (boolean)\n",
    "            13: count each letter\n",
    "            14: Count pairs\n",
    "    Returns:\n",
    "        features: a dictionary of extracted features\n",
    "    '''\n",
    "    features = {}    \n",
    "        \n",
    "    # Converts feat_num to itterable if type is int\n",
    "    if type(feat_num) is int:\n",
    "        feat_num = (0, feat_num)        \n",
    "       \n",
    "    # Gender Feature 1: First letter - book example\n",
    "    if 1 in feat_num:\n",
    "        features['firstletter'] = name[0].lower()\n",
    "            \n",
    "    # Gender Feature 2: First 2 letters\n",
    "    if 2 in feat_num:\n",
    "        features['first2Letters'] = name[0:2].lower()\n",
    "            \n",
    "    # Gender Feature 3: last letter\n",
    "    if 3 in feat_num:\n",
    "        features['last_letter'] = name[-1].lower()\n",
    "            \n",
    "    # Gender Feature 4: last 2 letter\n",
    "    if 4 in feat_num:\n",
    "        features[\"last2letters\"] = name[-2:].lower()\n",
    "        \n",
    "    # Gender feature 5: last 3 letter\n",
    "    if 5 in feat_num:  \n",
    "        features[\"last3letters\"] = name[-3:].lower()\n",
    "            \n",
    "    # Gender feature 6: Vowels count\n",
    "    if 6 in feat_num:  \n",
    "        features['vowel_count'] = len(re.sub(r'[^aeiou]', '', name.lower()))\n",
    "            \n",
    "    # Gender Feature 7: Hard consonants using general rules of c and g\n",
    "    if 7 in feat_num:\n",
    "        features['hard_consts'] = len(re.findall(r'[cg][^eiy]', name.lower()))/2\n",
    "            \n",
    "    # Gender Feature 8: Soft consonants using general rules of c and g\n",
    "    if 8 in feat_num:\n",
    "            features['soft_consts'] = len(re.findall(r'[cg][eiy]', name.lower()))/2\n",
    "            \n",
    "    # Gender Feature 9: Syllable Count of names via textstat\n",
    "    if 9 in feat_num:\n",
    "        features['syllable_count'] = textstat.syllable_count(name.lower())\n",
    "    \n",
    "    # Gender Feature 10: Name length\n",
    "    if 10 in feat_num:\n",
    "        features[\"length\"] = len(name)\n",
    "    \n",
    "    # Gender Feature 11: Char Counts (overfitts)\n",
    "    if 11 in feat_num:\n",
    "        for letter in string.ascii_lowercase:\n",
    "            features[\"count_{0}\".format(letter)] = name.lower().count(letter)\n",
    "                \n",
    "    # Gender Feature 12: Char Booleans (overfitts)\n",
    "    if 12 in feat_num:\n",
    "        for letter in string.ascii_lowercase:\n",
    "            features[\"has_{0}\".format(letter)] = letter in name.lower()\n",
    "        \n",
    "        \n",
    "    if 13 in feat_num:\n",
    "        features = {}\n",
    "        letters=list(map(chr, range(ord('a'), ord('z') + 1)))\n",
    "        for letter in letters:\n",
    "            features[\"count(%s)\" % letter] = name.lower().count(letter)\n",
    "\n",
    "\n",
    "    if 14 in feat_num:\n",
    "        features = {}\n",
    "        letters=list(map(chr, range(ord('a'), ord('z') + 1)))\n",
    "        for letter1 in letters:\n",
    "            for letter2 in letters:\n",
    "                features[\"has(\"+letter1+letter2+\")\"] = (letter1+letter2 in name.lower())\n",
    "        \n",
    "    #### Complex Features\n",
    "    # Gender Feature 15: Last Letter/Last 2 Letter\n",
    "    if 15 in feat_num:\n",
    "        features = {}\n",
    "        features[\"lastletter\"] = name[-1].lower()\n",
    "        features[\"last2letter\"] = name[-2:].lower()\n",
    "            \n",
    "    if 16 in feat_num:\n",
    "        features = {}\n",
    "        features[\"firstletter\"] = name[0].lower()\n",
    "        features[\"lastletter\"] = name[-1].lower()\n",
    "        features[\"last2letter\"] = name[-2:].lower()\n",
    "        features[\"last3letter\"] = name[-3:].lower()\n",
    "\n",
    "        letters=list(map(chr, range(ord('a'), ord('z') + 1)))\n",
    "        for letter1 in letters:\n",
    "            features[\"count(\"+letter1+\")\"] = name.lower().count(letter1)\n",
    "            features[\"has(\"+letter1+\")\"] = (letter1 in name.lower())\n",
    "            # iterate over 2-grams\n",
    "            for letter2 in letters:\n",
    "\n",
    "                features[\"has(\"+letter1+letter2+\")\"] = (letter1+letter2 in name.lower())\n",
    "\n",
    "\n",
    "    if 17 in feat_num:\n",
    "        # define features\n",
    "        features = {}\n",
    "        # has(fo) = True\n",
    "        features[\"has(fo)\"] = ('fo' in name.lower())\n",
    "        # has(hu) = True\n",
    "        features[\"has(hu)\"] = ('hu' in name.lower())\n",
    "        # has(rv) = True\n",
    "        features[\"has(rv)\"] = ('rv' in name.lower())    \n",
    "        # has(rw) = True\n",
    "        features[\"has(rw)\"] = ('rw' in name.lower()) \n",
    "        # has(sp) = True\n",
    "        features[\"has(sp)\"] = ('sp' in name.lower())\n",
    "\n",
    "        # lastletter = 'a'\n",
    "        features[\"lastletter=a\"] = ('a' in name[-1:].lower())\n",
    "        # lastletter = 'f'\n",
    "        features[\"lastletter=f\"] = ('f' in name[-1:].lower())\n",
    "        # lastletter = 'k'\n",
    "        features[\"lastletter=k\"] = ('k' in name[-1:].lower())\n",
    "\n",
    "        # last2letter = 'ch'\n",
    "        features[\"last2letter=ch\"] = ('ch' in name[-2:].lower())\n",
    "        # last2letter = 'do'\n",
    "        features[\"last2letter=do\"] = ('do' in name[-2:].lower())\n",
    "        # last2letter = 'ia'\n",
    "        features[\"last2letter=ia\"] = ('ia' in name[-2:].lower())\n",
    "        # last2letter = 'im'\n",
    "        features[\"last2letter=im\"] = ('im' in name[-2:].lower())\n",
    "        # last2letter = 'io'\n",
    "        features[\"last2letter=io\"] = ('io' in name[-2:].lower())\n",
    "        # last2letter = 'la'\n",
    "        features[\"last2letter=la\"] = ('la' in name[-2:].lower())\n",
    "        # last2letter = 'ld'\n",
    "        features[\"last2letter=ld\"] = ('ld' in name[-2:].lower())\n",
    "        # last2letter = 'na'\n",
    "        features[\"last2letter=na\"] = ('na' in name[-2:].lower())\n",
    "        # last2letter = 'os'\n",
    "        features[\"last2letter=os\"] = ('os' in name[-2:].lower())\n",
    "        # last2letter = 'ra'\n",
    "        features[\"last2letter=ra\"] = ('ra' in name[-2:].lower())\n",
    "        # last2letter = 'rd'\n",
    "        features[\"last2letter=rd\"] = ('rd' in name[-2:].lower())\n",
    "        # last2letter = 'rt'\n",
    "        features[\"last2letter=rt\"] = ('rt' in name[-2:].lower())\n",
    "        # last2letter = 'sa'\n",
    "        features[\"last2letter=sa\"] = ('sa' in name[-2:].lower())\n",
    "        # last2letter = 'ta'\n",
    "        features[\"last2letter=ta\"] = ('ta' in name[-2:].lower())\n",
    "        # last2letter = 'us'\n",
    "        features[\"last2letter=us\"] = ('us' in name[-2:].lower())\n",
    "\n",
    "        # last3letter = 'ana'\n",
    "        features[\"last3letter=ana\"] = ('ana' in name[-3:].lower())    \n",
    "        # last3letter = u'ard'\n",
    "        features[\"last3letter=ard\"] = ('ard' in name[-3:].lower())        \n",
    "        # last3letter = u'ita'\n",
    "        features[\"last3letter=ita\"] = ('ita' in name[-3:].lower())    \n",
    "        # last3letter = u'nne'\n",
    "        features[\"last3letter=nne\"] = ('nne' in name[-3:].lower())    \n",
    "        # last3letter = u'tta'\n",
    "        features[\"last3letter=tta\"] = ('tta' in name[-3:].lower())    \n",
    "        \n",
    "    return features\n",
    "\n"
   ]
  },
  {
   "cell_type": "markdown",
   "metadata": {},
   "source": [
    "### Functions for analysis and Helper functions\n",
    "\n",
    "We built a few functions that will faciliate the analysis and the display of the results;\n",
    "\n",
    "+ normalize_confusion_matrix: Returns a normalized confusion matrix  \n",
    "+ plot_confusion_matrix: plot a confusion matrix \n",
    "+ plot_both_confusion_matrix: plot 2 confusion matrix side by side  \n",
    "+ evaluate_naive_bayes_classifier: train a model using naive bayes classifier  \n",
    "+ evaluate_decision_tree_classifier: train a model using decision tree classifier\n",
    "+ get_sorted_feature_accuracies: Returns a tuple of sorted features and accuracies in the dataset.\n",
    "+ optmized_solution: Returns a tuple of list of features that yield the highest accuracy, and the accuracy that was achieved.\n",
    "\n",
    "Helper functions:  \n",
    "\n",
    "+ generate_errors\n",
    "+ show_errors\n",
    "+ generate_prediction"
   ]
  },
  {
   "cell_type": "code",
   "execution_count": 237,
   "metadata": {
    "collapsed": true
   },
   "outputs": [],
   "source": [
    "### Functions for analysis\n",
    "def normalize_confusion_matrix(cm):\n",
    "    # normalize confusion matrix\n",
    "    cm = cm.astype('float') / cm.sum(axis=1)[:, numpy.newaxis]\n",
    "    # return confusion matrix\n",
    "    return cm\n",
    "\n",
    "def plot_confusion_matrix(cm, classes,\n",
    "                          normalize=False,\n",
    "                          title='Confusion Matrix',\n",
    "                          cmap=plt.cm.Blues):\n",
    "    \"\"\"\n",
    "    Plots the confusion matrix. Set `normalize=True` for normalization.\n",
    "    \"\"\"\n",
    "    if normalize:\n",
    "        cm = normalize_confusion_matrix(cm)\n",
    "\n",
    "    plt.imshow(cm, interpolation='nearest', cmap=cmap)\n",
    "    plt.title(title)\n",
    "    plt.colorbar()\n",
    "    tick_marks = numpy.arange(len(classes))\n",
    "    plt.xticks(tick_marks, classes, rotation=90)\n",
    "    plt.yticks(tick_marks, classes)\n",
    "\n",
    "    fmt = '.2f' if normalize else 'd'\n",
    "    thresh = cm.max() / 2.\n",
    "    for i, j in itertools.product(range(cm.shape[0]), range(cm.shape[1])):\n",
    "        plt.text(j, i, format(cm[i, j], fmt),\n",
    "                 horizontalalignment=\"center\",\n",
    "                 color=\"white\" if cm[i, j] > thresh else \"black\")\n",
    "\n",
    "    plt.tight_layout()\n",
    "    plt.ylabel('True Label')\n",
    "    plt.xlabel('Predicted Label')\n",
    "\n",
    "    return\n",
    "\n",
    "def plot_both_confusion_matrix(cm,label_names):\n",
    "    # size figure\n",
    "    plt.figure(figsize=(10,6))\n",
    "    # add first subplot\n",
    "    plt.subplot(2, 2, 1)\n",
    "    # plot confusion matrix\n",
    "    plot_confusion_matrix(cm,classes=label_names,normalize=False)\n",
    "    # add second subplot\n",
    "    plt.subplot(2, 2, 2)\n",
    "    # plot confusion matrix (normalized)\n",
    "    plot_confusion_matrix(cm,classes=label_names,normalize=True)\n",
    "    \n",
    "    return\n",
    "\n",
    "def evaluate_naive_bayes_classifier(train_names,devtest_names,test_names,feat_num):\n",
    "    # create feature set (train)\n",
    "    train_set = [(get_features(n,feat_num), g)  for (n, g) in train_names]\n",
    "    # create feature set (dev test)\n",
    "    devtest_set = [(get_features(n,feat_num), g)  for (n, g) in devtest_names]\n",
    "    # create test set (dev test)\n",
    "    test_set = [(get_features(n,feat_num), g)  for (n, g) in test_names]\n",
    "    # build classifier\n",
    "    classifier = nltk.NaiveBayesClassifier.train(train_set) \n",
    "    # compute accuracy (train set)\n",
    "    train_accuracy=nltk.classify.accuracy(classifier, train_set)\n",
    "    # compute accuracy (development test set)\n",
    "    devtest_accuracy=nltk.classify.accuracy(classifier, devtest_set)\n",
    "    # create predicted classes (train)\n",
    "    train_set_predictions = [classifier.classify(get_features(n,feat_num))  for (n, g) in train_names]\n",
    "    # extract actual classes (gold)\n",
    "    train_set_gold = [g  for (n, g) in train_names]\n",
    "    # create confusion matrix\n",
    "    train_cm=confusion_matrix(train_set_gold, train_set_predictions)\n",
    "    # get unique classes (train)\n",
    "    train_label_names =  list(set(train_set_gold) | set(train_set_predictions))    \n",
    "    # create table with precision, recall, f1-score, and support\n",
    "    train_report=classification_report(train_set_gold, train_set_predictions,\n",
    "        digits=display_digits)\n",
    "\n",
    "    # create predicted classes (dev test)\n",
    "    devtest_set_predictions = [classifier.classify(get_features(n,feat_num))  for (n, g) in devtest_names]\n",
    "    # extract actual classes (gold)\n",
    "    devtest_set_gold = [g  for (n, g) in devtest_names]\n",
    "    # create confusion matrix (dev test)\n",
    "    devtest_cm=confusion_matrix(devtest_set_gold, devtest_set_predictions)\n",
    "    # get unique classes (dev test)\n",
    "    devtest_label_names =  list(set(devtest_set_gold) | set(devtest_set_predictions))\n",
    "    # create table with precision, recall, f1-score, and support\n",
    "    devtest_report=classification_report(devtest_set_gold, devtest_set_predictions,\n",
    "        digits=display_digits)\n",
    "\n",
    "    return train_accuracy,train_cm,train_label_names,train_report,devtest_accuracy,devtest_cm,devtest_label_names,devtest_report,classifier\n",
    "\n",
    "def evaluate_decision_tree_classifier(train_names,devtest_names,test_names,feat_num):\n",
    "    # create feature set (train)\n",
    "    train_set = [(get_features(n,feat_num), g)  for (n, g) in train_names]\n",
    "    # create feature set (dev test)\n",
    "    devtest_set = [(get_features(n,feat_num), g)  for (n, g) in devtest_names]\n",
    "    # create test set (dev test)\n",
    "    test_set = [(get_features(n,feat_num), g)  for (n, g) in test_names]\n",
    "    # build classifier\n",
    "    classifier = nltk.DecisionTreeClassifier.train(train_set)\n",
    "    # compute accuracy (train set)\n",
    "    train_accuracy=nltk.classify.accuracy(classifier, train_set)\n",
    "    # compute accuracy (development test set)\n",
    "    devtest_accuracy=nltk.classify.accuracy(classifier, devtest_set)\n",
    "    # create predicted classes (train)\n",
    "    train_set_predictions = [classifier.classify(get_features(n,feat_num))  for (n, g) in train_names]\n",
    "    # extract actual classes (gold)\n",
    "    train_set_gold = [g  for (n, g) in train_names]\n",
    "    # create confusion matrix\n",
    "    train_cm=confusion_matrix(train_set_gold, train_set_predictions)\n",
    "    # get unique classes (train)\n",
    "    train_label_names =  list(set(train_set_gold) | set(train_set_predictions))    \n",
    "    # create table with precision, recall, f1-score, and support\n",
    "    train_report=classification_report(train_set_gold, train_set_predictions,\n",
    "        digits=display_digits)\n",
    "\n",
    "    # create predicted classes (dev test)\n",
    "    devtest_set_predictions = [classifier.classify(get_features(n,feat_num))  for (n, g) in devtest_names]\n",
    "    # extract actual classes (gold)\n",
    "    devtest_set_gold = [g  for (n, g) in devtest_names]\n",
    "    # create confusion matrix (dev test)\n",
    "    devtest_cm=confusion_matrix(devtest_set_gold, devtest_set_predictions)\n",
    "    # get unique classes (dev test)\n",
    "    devtest_label_names =  list(set(devtest_set_gold) | set(devtest_set_predictions))\n",
    "    # create table with precision, recall, f1-score, and support\n",
    "    devtest_report=classification_report(devtest_set_gold, devtest_set_predictions,\n",
    "        digits=display_digits)\n",
    "\n",
    "    return train_accuracy,train_cm,train_label_names,train_report,devtest_accuracy,devtest_cm,devtest_label_names,devtest_report,classifier\n",
    " \n",
    "    \n",
    "def get_sorted_feature_accuracies(feat_num_start, feat_num, model_id):\n",
    "        feature_accuracy = {}\n",
    "        for i in numpy.arange(feat_num_start, feat_num+1):\n",
    "            feat_num =int(i)\n",
    "            errors = []\n",
    "            \n",
    "            # devtest-set and training set are constructed\n",
    "            #random.shuffle(development_set_names)\n",
    "            #devtest_names, train_names = development_set_names[0:500], development_set_names[500:]\n",
    "            \n",
    "            train_set = [(get_features(n,feat_num), g)  for (n, g) in train_names]\n",
    "            devtest_set = [(get_features(n,feat_num), g)  for (n, g) in devtest_names]\n",
    "            test_set = [(get_features(n,feat_num), g)  for (n, g) in test_names] \n",
    "            \n",
    "            if (model_id == 'nbc'):\n",
    "                classifier = nltk.NaiveBayesClassifier.train(train_set)\n",
    "            elif (model_id == 'dtc'):\n",
    "                classifier = nltk.DecisionTreeClassifier.train(train_set)\n",
    "                  \n",
    "            # For errors list\n",
    "            for (name, tag) in devtest_names:\n",
    "                guess = classifier.classify(get_features(name,feat_num)) \n",
    "                if guess != tag: \n",
    "                    errors.append((tag, guess, name))    \n",
    "                    \n",
    "            \n",
    "            feature_accuracy[feat_num] = nltk.classify.accuracy(classifier, devtest_set)\n",
    "        \n",
    "        \n",
    "        #sort for accuracy, and then reverse the array to return the array as most accurate to least accurate\n",
    "        sorted_by_accuracy = sorted(feature_accuracy.items(), key=operator.itemgetter(1))\n",
    "        return sorted_by_accuracy[::-1]\n",
    "                  \n",
    "def optimized_solution(model_id):\n",
    "    # for each of the features, append to the list of features, and check if the accuracy\n",
    "    #went up or down. If it went down, take it out, if it went up, make that the new accuracy to beat.\n",
    "        \n",
    "    optimized_feature_list = []\n",
    "    last_accuracy = -1\n",
    "    for feat_num in range(1,15):\n",
    "        errors = []\n",
    "        optimized_feature_list.append(feat_num)\n",
    "            \n",
    "        #random.shuffle(development_set_names)\n",
    "        #devtest_names, train_names = development_set_names[0:500], development_set_names[500:]\n",
    "            \n",
    "        train_set = [(get_features(n,optimized_feature_list), g)  for (n, g) in train_names]\n",
    "        devtest_set = [(get_features(n,optimized_feature_list), g)  for (n, g) in devtest_names]\n",
    "        test_set = [(get_features(n,optimized_feature_list), g)  for (n, g) in test_names] \n",
    "            \n",
    "        if (model_id == 'nbc'):\n",
    "            classifier = nltk.NaiveBayesClassifier.train(train_set)\n",
    "        elif (model_id == 'dtc'):\n",
    "            classifier = nltk.DecisionTreeClassifier.train(train_set) \n",
    "            \n",
    "        for (name, tag) in devtest_names:\n",
    "            guess = classifier.classify(get_features(name,optimized_feature_list)) \n",
    "            if guess != tag: \n",
    "                errors.append((tag, guess, name))    \n",
    "                    \n",
    "            \n",
    "        current_accuracy= nltk.classify.accuracy(classifier, devtest_set)\n",
    "        if current_accuracy > last_accuracy: \n",
    "            last_accuracy = current_accuracy\n",
    "        else:\n",
    "            del optimized_feature_list[-1]\n",
    "            \n",
    "    return (optimized_feature_list, last_accuracy)     \n",
    "\n",
    "### Helper functions:\n",
    "\n",
    "# Generic function to generate an error list based the arguments provided\n",
    "# Accepts the classifer, names dataset, and the extractor function\n",
    "# Returns the list of errors\n",
    "\n",
    "def generate_errors(classifier, dataset, feat_num): \n",
    "    \n",
    "    errors = [] \n",
    "\n",
    "    for (name, tag) in dataset:\n",
    "        guess = classifier.classify(get_features(name,feat_num)) \n",
    "        if guess != tag: \n",
    "            errors.append((tag, guess, name))\n",
    "            \n",
    "    return errors\n",
    "\n",
    "# Generic function to display classification errors\n",
    "# Accepts the error list and an optional argument to show only n number of errors\n",
    "\n",
    "def show_errors(errors, n=None):\n",
    "   \n",
    "    if n is not None: errors = errors[:n]\n",
    "            \n",
    "    for (tag, guess, name) in sorted(errors): \n",
    "        print('correct=%-8s guess=%-8s name=%-30s' %(tag, guess, name))\n",
    "\n",
    "        \n",
    "def generate_prediction(classifier, dataset, extractor_function): \n",
    "    \n",
    "    classification = [] \n",
    "\n",
    "    for (name, tag) in dataset:\n",
    "        guess = classifier.classify(extractor_function(name)) \n",
    "        classification.append((name,guess))\n",
    "            \n",
    "    return classification"
   ]
  },
  {
   "cell_type": "markdown",
   "metadata": {},
   "source": [
    "### Gender Identification Models - Naive Bayes Classifier: \n",
    "\n",
    "Using our previously identified simple features we will evaluate how the model perform for each.  \n",
    "\n",
    "#### Feature 1 - First Letter\n",
    "\n",
    "In this model, we train a Naive Bayes classifier using a simple feature set - namely the first letter of the name."
   ]
  },
  {
   "cell_type": "code",
   "execution_count": 238,
   "metadata": {},
   "outputs": [
    {
     "name": "stdout",
     "output_type": "stream",
     "text": [
      "Accuracy (Train): 0.648329493088\n",
      "Accuracy (Development Test): 0.634\n"
     ]
    },
    {
     "data": {
      "image/png": "[encoded data removed]",
      "text/plain": [
       "<matplotlib.figure.Figure at 0x49c7afd0>"
      ]
     },
     "metadata": {},
     "output_type": "display_data"
    },
    {
     "data": {
      "image/png": "[encoded data removed]",
      "text/plain": [
       "<matplotlib.figure.Figure at 0x50defc88>"
      ]
     },
     "metadata": {},
     "output_type": "display_data"
    }
   ],
   "source": [
    "feat_num = 1\n",
    "# evaluate the Naive Bayes classifier using gender_features1\n",
    "train_accuracy_nb1,train_cm_nb1,train_label_names_nb1,train_report_nb1, \\\n",
    "    devtest_accuracy_nb1, devtest_cm_nb1,devtest_label_names_nb1, \\\n",
    "    devtest_report_nb1, classifier_nb1=evaluate_naive_bayes_classifier( \\\n",
    "    train_names,devtest_names,test_names,feat_num)\n",
    "    \n",
    "# display model accuracy (train and development test)\n",
    "print('Accuracy (Train): '+str(train_accuracy_nb1))\n",
    "print('Accuracy (Development Test): '+str(devtest_accuracy_nb1))\n",
    "# plot confusion matrix (train)\n",
    "plot_both_confusion_matrix(train_cm_nb1,['female','male'])\n",
    "# plot confusion matrix (dev test)\n",
    "plot_both_confusion_matrix(devtest_cm_nb1,['female','male'])"
   ]
  },
  {
   "cell_type": "code",
   "execution_count": 239,
   "metadata": {},
   "outputs": [
    {
     "name": "stdout",
     "output_type": "stream",
     "text": [
      "Model Performance Metrics (Train):\n",
      "             precision    recall  f1-score   support\n",
      "\n",
      "     female     0.6507    0.9555    0.7741      4380\n",
      "       male     0.6191    0.1236    0.2061      2564\n",
      "\n",
      "avg / total     0.6390    0.6483    0.5644      6944\n",
      "\n",
      "Model Performance Metrics (Development Test):\n",
      "             precision    recall  f1-score   support\n",
      "\n",
      "     female     0.6416    0.9325    0.7602       311\n",
      "       male     0.5625    0.1429    0.2278       189\n",
      "\n",
      "avg / total     0.6117    0.6340    0.5589       500\n",
      "\n"
     ]
    }
   ],
   "source": [
    "# display performance report (train)\n",
    "print('Model Performance Metrics (Train):')\n",
    "print(train_report_nb1)\n",
    "# display performance report (dev test)\n",
    "print('Model Performance Metrics (Development Test):')\n",
    "print(devtest_report_nb1)"
   ]
  },
  {
   "cell_type": "code",
   "execution_count": 240,
   "metadata": {},
   "outputs": [
    {
     "name": "stdout",
     "output_type": "stream",
     "text": [
      "Most Informative Features\n",
      "             firstletter = u'w'             male : female =      4.5 : 1.0\n",
      "             firstletter = u'q'             male : female =      2.7 : 1.0\n",
      "             firstletter = u'u'             male : female =      2.4 : 1.0\n",
      "             firstletter = u'k'           female : male   =      2.3 : 1.0\n",
      "             firstletter = u'h'             male : female =      2.2 : 1.0\n",
      "             firstletter = u'x'             male : female =      2.0 : 1.0\n",
      "             firstletter = u'l'           female : male   =      1.8 : 1.0\n",
      "             firstletter = u'y'             male : female =      1.8 : 1.0\n",
      "             firstletter = u'z'             male : female =      1.7 : 1.0\n",
      "             firstletter = u'c'           female : male   =      1.6 : 1.0\n",
      "             firstletter = u't'             male : female =      1.6 : 1.0\n",
      "             firstletter = u'r'             male : female =      1.5 : 1.0\n",
      "             firstletter = u'm'           female : male   =      1.5 : 1.0\n",
      "             firstletter = u'o'             male : female =      1.4 : 1.0\n",
      "             firstletter = u'p'             male : female =      1.4 : 1.0\n",
      "             firstletter = u's'             male : female =      1.3 : 1.0\n",
      "             firstletter = u'g'             male : female =      1.2 : 1.0\n",
      "             firstletter = u'e'           female : male   =      1.2 : 1.0\n",
      "             firstletter = u'a'           female : male   =      1.2 : 1.0\n",
      "             firstletter = u'd'           female : male   =      1.2 : 1.0\n"
     ]
    }
   ],
   "source": [
    "# set number of informative features to display\n",
    "n_informative_features=20\n",
    "# examine likelihood ratios\n",
    "classifier_nb1.show_most_informative_features(n_informative_features)"
   ]
  },
  {
   "cell_type": "code",
   "execution_count": 241,
   "metadata": {},
   "outputs": [
    {
     "name": "stdout",
     "output_type": "stream",
     "text": [
      "correct=female   guess=male     name=Harmony                       \n",
      "correct=female   guess=male     name=Harri                         \n",
      "correct=female   guess=male     name=Harrietta                     \n",
      "correct=female   guess=male     name=Harriette                     \n",
      "correct=female   guess=male     name=Harriot                       \n",
      "correct=female   guess=male     name=Harriott                      \n",
      "correct=female   guess=male     name=Helen-Elizabeth               \n",
      "correct=female   guess=male     name=Hendrika                      \n",
      "correct=female   guess=male     name=Hertha                        \n",
      "correct=female   guess=male     name=Hildy                         \n",
      "correct=female   guess=male     name=Honey                         \n",
      "correct=female   guess=male     name=Horatia                       \n",
      "correct=female   guess=male     name=Quintana                      \n",
      "correct=female   guess=male     name=Waly                          \n",
      "correct=female   guess=male     name=Wilhelmina                    \n",
      "correct=female   guess=male     name=Winnifred                     \n",
      "correct=female   guess=male     name=Wren                          \n",
      "correct=female   guess=male     name=Wynny                         \n",
      "correct=female   guess=male     name=Yetta                         \n",
      "correct=female   guess=male     name=Yoshiko                       \n",
      "correct=female   guess=male     name=Yvette                        \n",
      "correct=male     guess=female   name=Abbie                         \n",
      "correct=male     guess=female   name=Abbott                        \n",
      "correct=male     guess=female   name=Aditya                        \n",
      "correct=male     guess=female   name=Alain                         \n",
      "correct=male     guess=female   name=Alex                          \n",
      "correct=male     guess=female   name=Allie                         \n",
      "correct=male     guess=female   name=Andres                        \n",
      "correct=male     guess=female   name=Anson                         \n",
      "correct=male     guess=female   name=Antonio                       \n",
      "correct=male     guess=female   name=Aram                          \n",
      "correct=male     guess=female   name=Archie                        \n",
      "correct=male     guess=female   name=Arel                          \n",
      "correct=male     guess=female   name=Arthur                        \n",
      "correct=male     guess=female   name=Ashish                        \n",
      "correct=male     guess=female   name=Bartolemo                     \n",
      "correct=male     guess=female   name=Bealle                        \n",
      "correct=male     guess=female   name=Beck                          \n",
      "correct=male     guess=female   name=Bennett                       \n",
      "correct=male     guess=female   name=Bob                           \n",
      "correct=male     guess=female   name=Brent                         \n",
      "correct=male     guess=female   name=Brewer                        \n",
      "correct=male     guess=female   name=Brewster                      \n",
      "correct=male     guess=female   name=Brock                         \n",
      "correct=male     guess=female   name=Bruno                         \n",
      "correct=male     guess=female   name=Cameron                       \n",
      "correct=male     guess=female   name=Carlyle                       \n",
      "correct=male     guess=female   name=Carson                        \n",
      "correct=male     guess=female   name=Case                          \n",
      "correct=male     guess=female   name=Cletus                        \n",
      "correct=male     guess=female   name=Corbin                        \n",
      "correct=male     guess=female   name=Dabney                        \n",
      "correct=male     guess=female   name=Darcy                         \n",
      "correct=male     guess=female   name=Derek                         \n",
      "correct=male     guess=female   name=Derrick                       \n",
      "correct=male     guess=female   name=Dickie                        \n",
      "correct=male     guess=female   name=Dietrich                      \n",
      "correct=male     guess=female   name=Dimitri                       \n",
      "correct=male     guess=female   name=Dominique                     \n",
      "correct=male     guess=female   name=Durant                        \n",
      "correct=male     guess=female   name=Elvin                         \n",
      "correct=male     guess=female   name=Elwin                         \n",
      "correct=male     guess=female   name=Engelbart                     \n",
      "correct=male     guess=female   name=Ephram                        \n",
      "correct=male     guess=female   name=Ernesto                       \n",
      "correct=male     guess=female   name=Esme                          \n",
      "correct=male     guess=female   name=Ethelbert                     \n",
      "correct=male     guess=female   name=Ferdie                        \n",
      "correct=male     guess=female   name=Ferdinand                     \n",
      "correct=male     guess=female   name=Fitz                          \n",
      "correct=male     guess=female   name=Fletch                        \n",
      "correct=male     guess=female   name=Friedrich                     \n",
      "correct=male     guess=female   name=Garey                         \n",
      "correct=male     guess=female   name=Garp                          \n",
      "correct=male     guess=female   name=Gav                           \n",
      "correct=male     guess=female   name=Gayle                         \n",
      "correct=male     guess=female   name=Gibb                          \n",
      "correct=male     guess=female   name=Gil                           \n",
      "correct=male     guess=female   name=Ginger                        \n",
      "correct=male     guess=female   name=Goddart                       \n",
      "correct=male     guess=female   name=Goober                        \n",
      "correct=male     guess=female   name=Graeme                        \n",
      "correct=male     guess=female   name=Gustave                       \n",
      "correct=male     guess=female   name=Ignacio                       \n",
      "correct=male     guess=female   name=Ingmar                        \n",
      "correct=male     guess=female   name=Ira                           \n",
      "correct=male     guess=female   name=Jackie                        \n",
      "correct=male     guess=female   name=Jarvis                        \n",
      "correct=male     guess=female   name=Jean-Lou                      \n",
      "correct=male     guess=female   name=Jeff                          \n",
      "correct=male     guess=female   name=Jerrome                       \n",
      "correct=male     guess=female   name=Joaquin                       \n",
      "correct=male     guess=female   name=Johnathon                     \n",
      "correct=male     guess=female   name=Jonathon                      \n",
      "correct=male     guess=female   name=Josh                          \n",
      "correct=male     guess=female   name=Judith                        \n",
      "correct=male     guess=female   name=Kane                          \n",
      "correct=male     guess=female   name=Kenneth                       \n",
      "correct=male     guess=female   name=Kermie                        \n",
      "correct=male     guess=female   name=Kincaid                       \n",
      "correct=male     guess=female   name=Krishna                       \n",
      "correct=male     guess=female   name=Laird                         \n",
      "correct=male     guess=female   name=Lamont                        \n",
      "correct=male     guess=female   name=Lazlo                         \n",
      "correct=male     guess=female   name=Lennie                        \n",
      "correct=male     guess=female   name=Leonardo                      \n",
      "correct=male     guess=female   name=Levon                         \n",
      "correct=male     guess=female   name=Lindsey                       \n",
      "correct=male     guess=female   name=Logan                         \n",
      "correct=male     guess=female   name=Ludvig                        \n",
      "correct=male     guess=female   name=Magnum                        \n",
      "correct=male     guess=female   name=Magnus                        \n",
      "correct=male     guess=female   name=Mahmud                        \n",
      "correct=male     guess=female   name=Marcel                        \n",
      "correct=male     guess=female   name=Marten                        \n",
      "correct=male     guess=female   name=Maximilien                    \n",
      "correct=male     guess=female   name=Mikael                        \n",
      "correct=male     guess=female   name=Miles                         \n",
      "correct=male     guess=female   name=Millicent                     \n",
      "correct=male     guess=female   name=Mitch                         \n",
      "correct=male     guess=female   name=Morley                        \n",
      "correct=male     guess=female   name=Mort                          \n",
      "correct=male     guess=female   name=Neddie                        \n",
      "correct=male     guess=female   name=Nicolas                       \n",
      "correct=male     guess=female   name=Niki                          \n",
      "correct=male     guess=female   name=Noland                        \n",
      "correct=male     guess=female   name=Norman                        \n",
      "correct=male     guess=female   name=Northrup                      \n",
      "correct=male     guess=female   name=Oberon                        \n",
      "correct=male     guess=female   name=Osborne                       \n",
      "correct=male     guess=female   name=Owen                          \n",
      "correct=male     guess=female   name=Ozzie                         \n",
      "correct=male     guess=female   name=Paco                          \n",
      "correct=male     guess=female   name=Padraig                       \n",
      "correct=male     guess=female   name=Parrnell                      \n",
      "correct=male     guess=female   name=Pasquale                      \n",
      "correct=male     guess=female   name=Penrod                        \n",
      "correct=male     guess=female   name=Pietro                        \n",
      "correct=male     guess=female   name=Porter                        \n",
      "correct=male     guess=female   name=Poul                          \n",
      "correct=male     guess=female   name=Prent                         \n",
      "correct=male     guess=female   name=Rahul                         \n",
      "correct=male     guess=female   name=Ralph                         \n",
      "correct=male     guess=female   name=Randie                        \n",
      "correct=male     guess=female   name=Ransom                        \n",
      "correct=male     guess=female   name=Renado                        \n",
      "correct=male     guess=female   name=Ritchie                       \n",
      "correct=male     guess=female   name=Robert                        \n",
      "correct=male     guess=female   name=Roland                        \n",
      "correct=male     guess=female   name=Rollin                        \n",
      "correct=male     guess=female   name=Ronny                         \n",
      "correct=male     guess=female   name=Roth                          \n",
      "correct=male     guess=female   name=Rudy                          \n",
      "correct=male     guess=female   name=Rudyard                       \n",
      "correct=male     guess=female   name=Russel                        \n",
      "correct=male     guess=female   name=Saxe                          \n",
      "correct=male     guess=female   name=Saxon                         \n",
      "correct=male     guess=female   name=Schuyler                      \n",
      "correct=male     guess=female   name=Sergent                       \n",
      "correct=male     guess=female   name=Shaughn                       \n",
      "correct=male     guess=female   name=Shay                          \n",
      "correct=male     guess=female   name=Shelley                       \n",
      "correct=male     guess=female   name=Shep                          \n",
      "correct=male     guess=female   name=Sim                           \n",
      "correct=male     guess=female   name=Sinclair                      \n",
      "correct=male     guess=female   name=Sivert                        \n",
      "correct=male     guess=female   name=Solomon                       \n",
      "correct=male     guess=female   name=Somerset                      \n",
      "correct=male     guess=female   name=Stirling                      \n",
      "correct=male     guess=female   name=Tabb                          \n",
      "correct=male     guess=female   name=Tam                           \n",
      "correct=male     guess=female   name=Tannie                        \n",
      "correct=male     guess=female   name=Templeton                     \n",
      "correct=male     guess=female   name=Terence                       \n",
      "correct=male     guess=female   name=Theo                          \n",
      "correct=male     guess=female   name=Tobin                         \n",
      "correct=male     guess=female   name=Torin                         \n",
      "correct=male     guess=female   name=Torr                          \n",
      "correct=male     guess=female   name=Tremaine                      \n",
      "correct=male     guess=female   name=Vaughn                        \n",
      "correct=male     guess=female   name=Vern                          \n",
      "correct=male     guess=female   name=Zary                          \n",
      "correct=male     guess=female   name=Zollie                        \n"
     ]
    }
   ],
   "source": [
    "# Show error \n",
    "show_errors(generate_errors(classifier_nb1, devtest_names, feat_num))"
   ]
  },
  {
   "cell_type": "markdown",
   "metadata": {},
   "source": [
    "First letter alone does not lead to very good results as is indicated by the analysis above.  "
   ]
  },
  {
   "cell_type": "markdown",
   "metadata": {},
   "source": [
    "#### Feature 2 - First 2 letters  \n",
    "\n",
    "We will now consider the first 2 letters as our feature.  \n"
   ]
  },
  {
   "cell_type": "code",
   "execution_count": null,
   "metadata": {},
   "outputs": [],
   "source": [
    "feat_num = 2\n",
    "# evaluate the Naive Bayes classifier using gender_features2\n",
    "train_accuracy_nb2,train_cm_nb2,train_label_names_nb2,train_report_nb2, \\\n",
    "    devtest_accuracy_nb2, devtest_cm_nb2,devtest_label_names_nb2, \\\n",
    "    devtest_report_nb2, classifier_nb2=evaluate_naive_bayes_classifier( \\\n",
    "    train_names,devtest_names,test_names,feat_num)\n",
    "    \n",
    "# display model accuracy (train and development test)\n",
    "print('Accuracy (Train): '+str(train_accuracy_nb2))\n",
    "print('Accuracy (Development Test): '+str(devtest_accuracy_nb2))\n",
    "# plot confusion matrix (train)\n",
    "plot_both_confusion_matrix(train_cm_nb2,['female','male'])\n",
    "# plot confusion matrix (dev test)\n",
    "plot_both_confusion_matrix(devtest_cm_nb2,['female','male'])"
   ]
  },
  {
   "cell_type": "code",
   "execution_count": null,
   "metadata": {},
   "outputs": [],
   "source": [
    "# set number of informative features to display\n",
    "n_informative_features=20\n",
    "# examine likelihood ratios\n",
    "classifier_nb2.show_most_informative_features(n_informative_features)"
   ]
  },
  {
   "cell_type": "code",
   "execution_count": null,
   "metadata": {
    "scrolled": false
   },
   "outputs": [],
   "source": [
    "# Show error \n",
    "show_errors(generate_errors(classifier_nb2, devtest_names, feat_num))"
   ]
  },
  {
   "cell_type": "markdown",
   "metadata": {},
   "source": [
    "First letters features are not good candidate for building model, we will now consider last letter(s) features.  "
   ]
  },
  {
   "cell_type": "markdown",
   "metadata": {},
   "source": [
    "#### Feature 3 - Last letter"
   ]
  },
  {
   "cell_type": "markdown",
   "metadata": {},
   "source": [
    "We will now focus on the last letter of the name. In our brief exploration of features, we observed some patterns that could likely be exploited by our classifier."
   ]
  },
  {
   "cell_type": "code",
   "execution_count": null,
   "metadata": {},
   "outputs": [],
   "source": [
    "feat_num = 3\n",
    "# evaluate the Naive Bayes classifier using gender_features1\n",
    "train_accuracy_nb3,train_cm_nb3,train_label_names_nb3,train_report_nb3, \\\n",
    "    devtest_accuracy_nb3, devtest_cm_nb3,devtest_label_names_nb3, \\\n",
    "    devtest_report_nb3, classifier_nb3=evaluate_naive_bayes_classifier( \\\n",
    "    train_names,devtest_names,test_names,feat_num)\n",
    "    \n",
    "# display model accuracy (train and development test)\n",
    "print('Accuracy (Train): '+str(train_accuracy_nb3))\n",
    "print('Accuracy (Development Test): '+str(devtest_accuracy_nb3))\n",
    "# plot confusion matrix (train)\n",
    "plot_both_confusion_matrix(train_cm_nb3,['female','male'])\n",
    "# plot confusion matrix (dev test)\n",
    "plot_both_confusion_matrix(devtest_cm_nb3,['female','male'])"
   ]
  },
  {
   "cell_type": "code",
   "execution_count": null,
   "metadata": {},
   "outputs": [],
   "source": [
    "# set number of informative features to display\n",
    "n_informative_features=20\n",
    "# examine likelihood ratios\n",
    "classifier_nb3.show_most_informative_features(n_informative_features)"
   ]
  },
  {
   "cell_type": "code",
   "execution_count": null,
   "metadata": {},
   "outputs": [],
   "source": [
    "show_errors(generate_errors(classifier_nb3, devtest_names, feat_num))"
   ]
  },
  {
   "cell_type": "markdown",
   "metadata": {},
   "source": [
    "Although names ending in the letter 'a' is our second best feature in this feature set, the other rules that looked useful in gender prediction were not in the top of the list.\n",
    "\n",
    "This is perhaps because we explored the conditional frequency, rather than the percent conditional frequency."
   ]
  },
  {
   "cell_type": "markdown",
   "metadata": {},
   "source": [
    "#### Feature 4 - Last 2 letters  \n",
    "\n",
    "In this model, we train a Naive Bayes classifier using a feature set comprised of the first two letters of a name."
   ]
  },
  {
   "cell_type": "code",
   "execution_count": null,
   "metadata": {},
   "outputs": [],
   "source": [
    "feat_num = 4\n",
    "# evaluate the Naive Bayes classifier using gender_features2\n",
    "train_accuracy_nb4,train_cm_nb4,train_label_names_nb4,train_report_nb4, \\\n",
    "    devtest_accuracy_nb4, devtest_cm_nb4,devtest_label_names_nb4, \\\n",
    "    devtest_report_nb4, classifier_nb4=evaluate_naive_bayes_classifier( \\\n",
    "    train_names,devtest_names,test_names,feat_num)\n",
    "    \n",
    "# display model accuracy (train and development test)\n",
    "print('Accuracy (Train): '+str(train_accuracy_nb4))\n",
    "print('Accuracy (Development Test): '+str(devtest_accuracy_nb4))\n",
    "# plot confusion matrix (train)\n",
    "plot_both_confusion_matrix(train_cm_nb4,['female','male'])\n",
    "# plot confusion matrix (dev test)\n",
    "plot_both_confusion_matrix(devtest_cm_nb4,['female','male'])"
   ]
  },
  {
   "cell_type": "code",
   "execution_count": null,
   "metadata": {},
   "outputs": [],
   "source": [
    "# set number of informative features to display\n",
    "n_informative_features=20\n",
    "# examine likelihood ratios\n",
    "classifier_nb4.show_most_informative_features(n_informative_features)"
   ]
  },
  {
   "cell_type": "code",
   "execution_count": null,
   "metadata": {
    "scrolled": false
   },
   "outputs": [],
   "source": [
    "# Show error \n",
    "show_errors(generate_errors(classifier_nb4, devtest_names, feat_num))"
   ]
  },
  {
   "cell_type": "markdown",
   "metadata": {},
   "source": [
    "Feature utilizating last letter(s) leads better results so far.  "
   ]
  },
  {
   "cell_type": "markdown",
   "metadata": {},
   "source": [
    "#### Feature 5 - Last 3 Letters  \n",
    "\n",
    "In this model, we train a Naive Bayes classifier using the last three letters of the name."
   ]
  },
  {
   "cell_type": "code",
   "execution_count": null,
   "metadata": {},
   "outputs": [],
   "source": [
    "feat_num = 5\n",
    "# evaluate the Naive Bayes classifier using gender_features5\n",
    "train_accuracy_nb5,train_cm_nb5,train_label_names_nb5,train_report_nb5, \\\n",
    "    devtest_accuracy_nb5, devtest_cm_nb5,devtest_label_names_nb5, \\\n",
    "    devtest_report_nb5, classifier_nb5=evaluate_naive_bayes_classifier( \\\n",
    "    train_names,devtest_names,test_names,feat_num)\n",
    "    \n",
    "# display model accuracy (train and development test)\n",
    "print('Accuracy (Train): '+str(train_accuracy_nb5))\n",
    "print('Accuracy (Development Test): '+str(devtest_accuracy_nb5))\n",
    "# plot confusion matrix (train)\n",
    "plot_both_confusion_matrix(train_cm_nb5,['female','male'])\n",
    "# plot confusion matrix (dev test)\n",
    "plot_both_confusion_matrix(devtest_cm_nb5,['female','male'])"
   ]
  },
  {
   "cell_type": "code",
   "execution_count": null,
   "metadata": {},
   "outputs": [],
   "source": [
    "# set number of informative features to display\n",
    "n_informative_features=20\n",
    "# examine likelihood ratios\n",
    "classifier_nb5.show_most_informative_features(n_informative_features)"
   ]
  },
  {
   "cell_type": "code",
   "execution_count": null,
   "metadata": {
    "scrolled": false
   },
   "outputs": [],
   "source": [
    "# Show error \n",
    "show_errors(generate_errors(classifier_nb5, devtest_names, feat_num))"
   ]
  },
  {
   "cell_type": "markdown",
   "metadata": {},
   "source": [
    "#### Feature 6 - Vowels Count  \n",
    "\n",
    "In this model, we train a Naive Bayes classifier using the vowel count."
   ]
  },
  {
   "cell_type": "code",
   "execution_count": null,
   "metadata": {},
   "outputs": [],
   "source": [
    "feat_num = 6\n",
    "# evaluate the Naive Bayes classifier using gender_features2\n",
    "train_accuracy_nb6,train_cm_nb6,train_label_names_nb6,train_report_nb6, \\\n",
    "    devtest_accuracy_nb6, devtest_cm_nb6,devtest_label_names_nb6, \\\n",
    "    devtest_report_nb6, classifier_nb6=evaluate_naive_bayes_classifier( \\\n",
    "    train_names,devtest_names,test_names,feat_num)\n",
    "    \n",
    "# display model accuracy (train and development test)\n",
    "print('Accuracy (Train): '+str(train_accuracy_nb6))\n",
    "print('Accuracy (Development Test): '+str(devtest_accuracy_nb6))\n",
    "# plot confusion matrix (train)\n",
    "plot_both_confusion_matrix(train_cm_nb6,['female','male'])\n",
    "# plot confusion matrix (dev test)\n",
    "plot_both_confusion_matrix(devtest_cm_nb6,['female','male'])"
   ]
  },
  {
   "cell_type": "code",
   "execution_count": null,
   "metadata": {},
   "outputs": [],
   "source": [
    "# set number of informative features to display\n",
    "n_informative_features=20\n",
    "# examine likelihood ratios\n",
    "classifier_nb6.show_most_informative_features(n_informative_features)"
   ]
  },
  {
   "cell_type": "code",
   "execution_count": null,
   "metadata": {
    "scrolled": false
   },
   "outputs": [],
   "source": [
    "# Show error \n",
    "show_errors(generate_errors(classifier_nb6, devtest_names, feat_num))"
   ]
  },
  {
   "cell_type": "markdown",
   "metadata": {},
   "source": [
    "This feature is not leading as good results as last letter features.  "
   ]
  },
  {
   "cell_type": "markdown",
   "metadata": {},
   "source": [
    "#### Feature 7 - Hard Consonant using general rules of c and g  \n",
    "\n",
    "In this model, we train a Naive Bayes classifier based on hard consonants using general rules of 'c' and 'g'."
   ]
  },
  {
   "cell_type": "code",
   "execution_count": null,
   "metadata": {},
   "outputs": [],
   "source": [
    "feat_num = 7\n",
    "# evaluate the Naive Bayes classifier using gender_features2\n",
    "train_accuracy_nb7,train_cm_nb7,train_label_names_nb7,train_report_nb7, \\\n",
    "    devtest_accuracy_nb7, devtest_cm_nb7,devtest_label_names_nb7, \\\n",
    "    devtest_report_nb7, classifier_nb7=evaluate_naive_bayes_classifier( \\\n",
    "    train_names,devtest_names,test_names,feat_num)\n",
    "    \n",
    "# display model accuracy (train and development test)\n",
    "print('Accuracy (Train): '+str(train_accuracy_nb7))\n",
    "print('Accuracy (Development Test): '+str(devtest_accuracy_nb7))\n",
    "# plot confusion matrix (train)\n",
    "plot_both_confusion_matrix(train_cm_nb7,['female','male'])\n",
    "# plot confusion matrix (dev test)\n",
    "plot_both_confusion_matrix(devtest_cm_nb7,['female','male'])"
   ]
  },
  {
   "cell_type": "code",
   "execution_count": null,
   "metadata": {},
   "outputs": [],
   "source": [
    "# set number of informative features to display\n",
    "n_informative_features=20\n",
    "# examine likelihood ratios\n",
    "classifier_nb7.show_most_informative_features(n_informative_features)"
   ]
  },
  {
   "cell_type": "code",
   "execution_count": null,
   "metadata": {
    "scrolled": false
   },
   "outputs": [],
   "source": [
    "# Show error \n",
    "show_errors(generate_errors(classifier_nb7, devtest_names, feat_num))"
   ]
  },
  {
   "cell_type": "markdown",
   "metadata": {},
   "source": [
    "Again, this feature does not look promising as a first feature to build our model on.  "
   ]
  },
  {
   "cell_type": "markdown",
   "metadata": {},
   "source": [
    "#### Feature 8 - Soft Consonant using general rules of c and g  \n",
    "\n",
    "In this model, we train a Naive Bayes classifier based on soft consonants using general rules of 'c' and 'g'."
   ]
  },
  {
   "cell_type": "code",
   "execution_count": null,
   "metadata": {},
   "outputs": [],
   "source": [
    "feat_num = 8\n",
    "# evaluate the Naive Bayes classifier using gender_features8\n",
    "train_accuracy_nb8,train_cm_nb8,train_label_names_nb8,train_report_nb8, \\\n",
    "    devtest_accuracy_nb8, devtest_cm_nb8,devtest_label_names_nb8, \\\n",
    "    devtest_report_nb8, classifier_nb8=evaluate_naive_bayes_classifier( \\\n",
    "    train_names,devtest_names,test_names,feat_num)\n",
    "    \n",
    "# display model accuracy (train and development test)\n",
    "print('Accuracy (Train): '+str(train_accuracy_nb8))\n",
    "print('Accuracy (Development Test): '+str(devtest_accuracy_nb8))\n",
    "# plot confusion matrix (train)\n",
    "plot_both_confusion_matrix(train_cm_nb8,['female','male'])\n",
    "# plot confusion matrix (dev test)\n",
    "plot_both_confusion_matrix(devtest_cm_nb8,['female','male'])"
   ]
  },
  {
   "cell_type": "code",
   "execution_count": null,
   "metadata": {},
   "outputs": [],
   "source": [
    "# set number of informative features to display\n",
    "n_informative_features=20\n",
    "# examine likelihood ratios\n",
    "classifier_nb8.show_most_informative_features(n_informative_features)"
   ]
  },
  {
   "cell_type": "code",
   "execution_count": null,
   "metadata": {
    "scrolled": false
   },
   "outputs": [],
   "source": [
    "# Show error \n",
    "show_errors(generate_errors(classifier_nb8, devtest_names, feat_num))"
   ]
  },
  {
   "cell_type": "markdown",
   "metadata": {},
   "source": [
    "#### Feature 9 - Syllable Count  \n",
    "\n",
    "In this model, we train a Naive Bayes classifier using the syllable count."
   ]
  },
  {
   "cell_type": "code",
   "execution_count": null,
   "metadata": {},
   "outputs": [],
   "source": [
    "feat_num = 9\n",
    "# evaluate the Naive Bayes classifier using gender_features9\n",
    "train_accuracy_nb9,train_cm_nb9,train_label_names_nb9,train_report_nb9, \\\n",
    "    devtest_accuracy_nb9, devtest_cm_nb9,devtest_label_names_nb9, \\\n",
    "    devtest_report_nb9, classifier_nb9=evaluate_naive_bayes_classifier( \\\n",
    "    train_names,devtest_names,test_names,feat_num)\n",
    "    \n",
    "# display model accuracy (train and development test)\n",
    "print('Accuracy (Train): '+str(train_accuracy_nb9))\n",
    "print('Accuracy (Development Test): '+str(devtest_accuracy_nb9))\n",
    "# plot confusion matrix (train)\n",
    "plot_both_confusion_matrix(train_cm_nb9,['female','male'])\n",
    "# plot confusion matrix (dev test)\n",
    "plot_both_confusion_matrix(devtest_cm_nb9,['female','male'])"
   ]
  },
  {
   "cell_type": "code",
   "execution_count": null,
   "metadata": {},
   "outputs": [],
   "source": [
    "# set number of informative features to display\n",
    "n_informative_features=20\n",
    "# examine likelihood ratios\n",
    "classifier_nb9.show_most_informative_features(n_informative_features)"
   ]
  },
  {
   "cell_type": "code",
   "execution_count": null,
   "metadata": {
    "scrolled": false
   },
   "outputs": [],
   "source": [
    "# Show error \n",
    "show_errors(generate_errors(classifier_nb9, devtest_names, feat_num))"
   ]
  },
  {
   "cell_type": "markdown",
   "metadata": {},
   "source": [
    "#### Feature 10 - Name Length  \n",
    "\n",
    "In this model, we train a Naive Bayes classifier using the name length."
   ]
  },
  {
   "cell_type": "code",
   "execution_count": null,
   "metadata": {},
   "outputs": [],
   "source": [
    "feat_num = 10\n",
    "# evaluate the Naive Bayes classifier using gender_features10\n",
    "train_accuracy_nb10,train_cm_nb10,train_label_names_nb10,train_report_nb10, \\\n",
    "    devtest_accuracy_nb10, devtest_cm_nb10,devtest_label_names_nb10, \\\n",
    "    devtest_report_nb10, classifier_nb10=evaluate_naive_bayes_classifier( \\\n",
    "    train_names,devtest_names,test_names,feat_num)\n",
    "    \n",
    "# display model accuracy (train and development test)\n",
    "print('Accuracy (Train): '+str(train_accuracy_nb10))\n",
    "print('Accuracy (Development Test): '+str(devtest_accuracy_nb10))\n",
    "# plot confusion matrix (train)\n",
    "plot_both_confusion_matrix(train_cm_nb10,['female','male'])\n",
    "# plot confusion matrix (dev test)\n",
    "plot_both_confusion_matrix(devtest_cm_nb10,['female','male'])"
   ]
  },
  {
   "cell_type": "code",
   "execution_count": null,
   "metadata": {},
   "outputs": [],
   "source": [
    "# set number of informative features to display\n",
    "n_informative_features=20\n",
    "# examine likelihood ratios\n",
    "classifier_nb10.show_most_informative_features(n_informative_features)"
   ]
  },
  {
   "cell_type": "code",
   "execution_count": null,
   "metadata": {
    "scrolled": false
   },
   "outputs": [],
   "source": [
    "# Show error \n",
    "show_errors(generate_errors(classifier_nb10, devtest_names, feat_num))"
   ]
  },
  {
   "cell_type": "markdown",
   "metadata": {},
   "source": [
    "#### Feature 11 - Character Count  \n",
    "\n",
    "In this model, we train a Naive Bayes classifier using a character count.  "
   ]
  },
  {
   "cell_type": "code",
   "execution_count": null,
   "metadata": {},
   "outputs": [],
   "source": [
    "feat_num = 11\n",
    "# evaluate the Naive Bayes classifier using gender_features11\n",
    "train_accuracy_nb11,train_cm_nb11,train_label_names_nb11,train_report_nb11, \\\n",
    "    devtest_accuracy_nb11, devtest_cm_nb11,devtest_label_names_nb11, \\\n",
    "    devtest_report_nb11, classifier_nb11=evaluate_naive_bayes_classifier( \\\n",
    "    train_names,devtest_names,test_names,feat_num)\n",
    "    \n",
    "# display model accuracy (train and development test)\n",
    "print('Accuracy (Train): '+str(train_accuracy_nb11))\n",
    "print('Accuracy (Development Test): '+str(devtest_accuracy_nb11))\n",
    "# plot confusion matrix (train)\n",
    "plot_both_confusion_matrix(train_cm_nb11,['female','male'])\n",
    "# plot confusion matrix (dev test)\n",
    "plot_both_confusion_matrix(devtest_cm_nb11,['female','male'])"
   ]
  },
  {
   "cell_type": "code",
   "execution_count": null,
   "metadata": {},
   "outputs": [],
   "source": [
    "# set number of informative features to display\n",
    "n_informative_features=20\n",
    "# examine likelihood ratios\n",
    "classifier_nb11.show_most_informative_features(n_informative_features)"
   ]
  },
  {
   "cell_type": "code",
   "execution_count": null,
   "metadata": {
    "scrolled": false
   },
   "outputs": [],
   "source": [
    "# Show error \n",
    "show_errors(generate_errors(classifier_nb11, devtest_names, feat_num))"
   ]
  },
  {
   "cell_type": "markdown",
   "metadata": {},
   "source": [
    "#### Feature 12 - Character Present  \n",
    "\n",
    "In this model, we train a Naive Bayes classifier using presence of charcters."
   ]
  },
  {
   "cell_type": "code",
   "execution_count": null,
   "metadata": {},
   "outputs": [],
   "source": [
    "feat_num = 12\n",
    "# evaluate the Naive Bayes classifier using gender_features12\n",
    "train_accuracy_nb12,train_cm_nb12,train_label_names_nb12,train_report_nb12, \\\n",
    "    devtest_accuracy_nb12, devtest_cm_nb12,devtest_label_names_nb12, \\\n",
    "    devtest_report_nb12, classifier_nb12=evaluate_naive_bayes_classifier( \\\n",
    "    train_names,devtest_names,test_names,feat_num)\n",
    "    \n",
    "# display model accuracy (train and development test)\n",
    "print('Accuracy (Train): '+str(train_accuracy_nb12))\n",
    "print('Accuracy (Development Test): '+str(devtest_accuracy_nb12))\n",
    "# plot confusion matrix (train)\n",
    "plot_both_confusion_matrix(train_cm_nb12,['female','male'])\n",
    "# plot confusion matrix (dev test)\n",
    "plot_both_confusion_matrix(devtest_cm_nb12,['female','male'])"
   ]
  },
  {
   "cell_type": "code",
   "execution_count": null,
   "metadata": {},
   "outputs": [],
   "source": [
    "# set number of informative features to display\n",
    "n_informative_features=20\n",
    "# examine likelihood ratios\n",
    "classifier_nb12.show_most_informative_features(n_informative_features)"
   ]
  },
  {
   "cell_type": "code",
   "execution_count": null,
   "metadata": {
    "scrolled": false
   },
   "outputs": [],
   "source": [
    "# Show error \n",
    "show_errors(generate_errors(classifier_nb12, devtest_names, feat_num))"
   ]
  },
  {
   "cell_type": "markdown",
   "metadata": {},
   "source": [
    "#### Feature 13 - Count of each letter   \n",
    "\n",
    "In this model, we train a Naive Bayes classifier using the count of each letter."
   ]
  },
  {
   "cell_type": "code",
   "execution_count": null,
   "metadata": {},
   "outputs": [],
   "source": [
    "feat_num = 13\n",
    "# evaluate the Naive Bayes classifier using gender_features13\n",
    "train_accuracy_nb13,train_cm_nb13,train_label_names_nb13,train_report_nb13, \\\n",
    "    devtest_accuracy_nb13, devtest_cm_nb13,devtest_label_names_nb13, \\\n",
    "    devtest_report_nb13, classifier_nb13=evaluate_naive_bayes_classifier( \\\n",
    "    train_names,devtest_names,test_names,feat_num)\n",
    "    \n",
    "# display model accuracy (train and development test)\n",
    "print('Accuracy (Train): '+str(train_accuracy_nb13))\n",
    "print('Accuracy (Development Test): '+str(devtest_accuracy_nb13))\n",
    "# plot confusion matrix (train)\n",
    "plot_both_confusion_matrix(train_cm_nb13,['female','male'])\n",
    "# plot confusion matrix (dev test)\n",
    "plot_both_confusion_matrix(devtest_cm_nb13,['female','male'])"
   ]
  },
  {
   "cell_type": "code",
   "execution_count": null,
   "metadata": {},
   "outputs": [],
   "source": [
    "# set number of informative features to display\n",
    "n_informative_features=20\n",
    "# examine likelihood ratios\n",
    "classifier_nb13.show_most_informative_features(n_informative_features)"
   ]
  },
  {
   "cell_type": "code",
   "execution_count": null,
   "metadata": {
    "scrolled": false
   },
   "outputs": [],
   "source": [
    "# Show error \n",
    "show_errors(generate_errors(classifier_nb13, devtest_names, feat_num))"
   ]
  },
  {
   "cell_type": "markdown",
   "metadata": {},
   "source": [
    "#### Feature 14 - Count of Pair of letters  \n",
    "\n",
    "In this model, we train a Naive Bayes classifier using the count of pair of letters."
   ]
  },
  {
   "cell_type": "code",
   "execution_count": null,
   "metadata": {},
   "outputs": [],
   "source": [
    "feat_num = 14\n",
    "# evaluate the Naive Bayes classifier using gender_features2\n",
    "train_accuracy_nb14,train_cm_nb14,train_label_names_nb14,train_report_nb14, \\\n",
    "    devtest_accuracy_nb14, devtest_cm_nb14,devtest_label_names_nb14, \\\n",
    "    devtest_report_nb14, classifier_nb14=evaluate_naive_bayes_classifier( \\\n",
    "    train_names,devtest_names,test_names,feat_num)\n",
    "    \n",
    "# display model accuracy (train and development test)\n",
    "print('Accuracy (Train): '+str(train_accuracy_nb14))\n",
    "print('Accuracy (Development Test): '+str(devtest_accuracy_nb14))\n",
    "# plot confusion matrix (train)\n",
    "plot_both_confusion_matrix(train_cm_nb14,['female','male'])\n",
    "# plot confusion matrix (dev test)\n",
    "plot_both_confusion_matrix(devtest_cm_nb14,['female','male'])"
   ]
  },
  {
   "cell_type": "code",
   "execution_count": null,
   "metadata": {},
   "outputs": [],
   "source": [
    "# set number of informative features to display\n",
    "n_informative_features=20\n",
    "# examine likelihood ratios\n",
    "classifier_nb14.show_most_informative_features(n_informative_features)"
   ]
  },
  {
   "cell_type": "code",
   "execution_count": null,
   "metadata": {
    "scrolled": false
   },
   "outputs": [],
   "source": [
    "# Show error \n",
    "show_errors(generate_errors(classifier_nb14, devtest_names, feat_num))"
   ]
  },
  {
   "cell_type": "markdown",
   "metadata": {},
   "source": [
    "#### Features Optimization    \n",
    "\n",
    "In order to build the best possible Naive Baeyes Module, we will identify the best features based on accuracy rating.  \n"
   ]
  },
  {
   "cell_type": "code",
   "execution_count": null,
   "metadata": {
    "collapsed": true
   },
   "outputs": [],
   "source": [
    "ranked_features = get_sorted_feature_accuracies(1, 14, 'nbc')"
   ]
  },
  {
   "cell_type": "code",
   "execution_count": null,
   "metadata": {},
   "outputs": [],
   "source": [
    "features = {\n",
    "    1: \"First Letter\",\n",
    "    2: \"First 2 Letters\",\n",
    "    3: \"Last Letter\", \n",
    "    4: \"Last 2 Letters\", \n",
    "    5: \"Last 3 Letters\", \n",
    "    6: \"Vowels count\",\n",
    "    7: \"Hard consonants using general rules of c and g\",\n",
    "    8: \"Soft consonants using general rules of c and g\",\n",
    "    9: \"Syllable Count of names via textstat\",\n",
    "    10: \"Name length\",\n",
    "    11: \"Character count\",\n",
    "    12: \"Character present\",\n",
    "    13: \"Count of each letter\",\n",
    "    14: \"Count of pair of letters in the alphabet\",\n",
    "}\n",
    "\n",
    "print(\"Top Five Single Features with the Highest Accuracy\")\n",
    "print(\"---------------------------------------------------------------\")\n",
    "for (feat_num, accuracy) in ranked_features[0:5]:\n",
    "    print('Feature: %-30s Accuracy: %-8s' %(features[feat_num], accuracy))\n",
    "\n",
    "print(\"---------------------------------------------------------------\")"
   ]
  },
  {
   "cell_type": "markdown",
   "metadata": {},
   "source": [
    "Combining different features together can often lead to a more accurate classification system. The optmize_solution function was built to go through different combinations of classification features, and yield out a result of features that lead to the most accurate solution:"
   ]
  },
  {
   "cell_type": "code",
   "execution_count": null,
   "metadata": {
    "scrolled": true
   },
   "outputs": [],
   "source": [
    "optimized_features = optimized_solution('nbc')\n",
    "optimized_features\n"
   ]
  },
  {
   "cell_type": "markdown",
   "metadata": {},
   "source": [
    "We see that the optmized solution yielded an accuracy of 0.83, while the highest accuracy achieved by any single feature was 0.786. The following features provided the optimized solution:"
   ]
  },
  {
   "cell_type": "code",
   "execution_count": null,
   "metadata": {},
   "outputs": [],
   "source": [
    "print(\"Following features provide the most optmized solution: \")\n",
    "for feat_num in optimized_features[0]:\n",
    "    print('    -> %-30s' %(features[feat_num]))"
   ]
  },
  {
   "cell_type": "markdown",
   "metadata": {},
   "source": [
    "#### Complext Features Evaluation  \n",
    "\n",
    "Based on the single features evaluation, we developped some complext features that will will now evaluate.  "
   ]
  },
  {
   "cell_type": "markdown",
   "metadata": {},
   "source": [
    "##### Feature 15 - Last Letter / Last 2 Letter  \n",
    "\n",
    "In this model, we train a Naive Bayes classifier using the last letter of the name and the last two letters of a name."
   ]
  },
  {
   "cell_type": "code",
   "execution_count": null,
   "metadata": {},
   "outputs": [],
   "source": [
    "feat_num = 15\n",
    "# evaluate the Naive Bayes classifier using gender_features2\n",
    "train_accuracy_nb15,train_cm_nb15,train_label_names_nb15,train_report_nb15, \\\n",
    "    devtest_accuracy_nb15, devtest_cm_nb15,devtest_label_names_nb15, \\\n",
    "    devtest_report_nb15, classifier_nb15=evaluate_naive_bayes_classifier( \\\n",
    "    train_names,devtest_names,test_names,feat_num)\n",
    "    \n",
    "# display model accuracy (train and development test)\n",
    "print('Accuracy (Train): '+str(train_accuracy_nb15))\n",
    "print('Accuracy (Development Test): '+str(devtest_accuracy_nb15))\n",
    "# plot confusion matrix (train)\n",
    "plot_both_confusion_matrix(train_cm_nb15,['female','male'])\n",
    "# plot confusion matrix (dev test)\n",
    "plot_both_confusion_matrix(devtest_cm_nb15,['female','male'])"
   ]
  },
  {
   "cell_type": "code",
   "execution_count": null,
   "metadata": {},
   "outputs": [],
   "source": [
    "# set number of informative features to display\n",
    "n_informative_features=20\n",
    "# examine likelihood ratios\n",
    "classifier_nb15.show_most_informative_features(n_informative_features)"
   ]
  },
  {
   "cell_type": "code",
   "execution_count": null,
   "metadata": {
    "scrolled": false
   },
   "outputs": [],
   "source": [
    "# Show error \n",
    "show_errors(generate_errors(classifier_nb15, devtest_names, feat_num))"
   ]
  },
  {
   "cell_type": "markdown",
   "metadata": {},
   "source": [
    "##### Feature 16 - Complex Combine Feature\n",
    "\n",
    "In this model, we train a Naive Bayes classifier using a feature set composed the first letter, the last letter, the last two letters, the last 3 letters, the letter count, the presence of a letter, and all two letter combinations."
   ]
  },
  {
   "cell_type": "code",
   "execution_count": null,
   "metadata": {},
   "outputs": [],
   "source": [
    "feat_num = 16\n",
    "# evaluate the Naive Bayes classifier using gender_features2\n",
    "train_accuracy_nb16,train_cm_nb16,train_label_names_nb16,train_report_nb16, \\\n",
    "    devtest_accuracy_nb16, devtest_cm_nb16,devtest_label_names_nb16, \\\n",
    "    devtest_report_nb16, classifier_nb16=evaluate_naive_bayes_classifier( \\\n",
    "    train_names,devtest_names,test_names,feat_num)\n",
    "    \n",
    "# display model accuracy (train and development test)\n",
    "print('Accuracy (Train): '+str(train_accuracy_nb16))\n",
    "print('Accuracy (Development Test): '+str(devtest_accuracy_nb16))\n",
    "# plot confusion matrix (train)\n",
    "plot_both_confusion_matrix(train_cm_nb16,['female','male'])\n",
    "# plot confusion matrix (dev test)\n",
    "plot_both_confusion_matrix(devtest_cm_nb16,['female','male'])"
   ]
  },
  {
   "cell_type": "code",
   "execution_count": null,
   "metadata": {},
   "outputs": [],
   "source": [
    "# set number of informative features to display\n",
    "n_informative_features=20\n",
    "# examine likelihood ratios\n",
    "classifier_nb16.show_most_informative_features(n_informative_features)"
   ]
  },
  {
   "cell_type": "code",
   "execution_count": null,
   "metadata": {
    "scrolled": false
   },
   "outputs": [],
   "source": [
    "# Show error \n",
    "show_errors(generate_errors(classifier_nb16, devtest_names, feat_num))"
   ]
  },
  {
   "cell_type": "markdown",
   "metadata": {},
   "source": [
    "Despite the large feature set, the performance of our model is relatively good on both the training and development test data sets."
   ]
  },
  {
   "cell_type": "markdown",
   "metadata": {},
   "source": [
    "#### Best Model for Naive Bayes Classifier  \n",
    "\n",
    "We will now compare the best model we build using our manually constructed complex feature and the feature constructed as a result of our optimization process and compare.  \n",
    "\n",
    "The features included as the result of the optimization analysis are:  "
   ]
  },
  {
   "cell_type": "code",
   "execution_count": null,
   "metadata": {},
   "outputs": [],
   "source": [
    "print(\"Following features provide the most optmized solution: \")\n",
    "for feat_num in optimized_features[0]:\n",
    "    print('    -> %-30s' %(features[feat_num]))"
   ]
  },
  {
   "cell_type": "code",
   "execution_count": null,
   "metadata": {},
   "outputs": [],
   "source": [
    "feat_num = [1, 3, 4, 5, 6, 11]\n",
    "# evaluate the Naive Bayes classifier using gender_features2\n",
    "train_accuracy_nb17,train_cm_nb17,train_label_names_nb17,train_report_nb17, \\\n",
    "    devtest_accuracy_nb17, devtest_cm_nb17,devtest_label_names_nb17, \\\n",
    "    devtest_report_nb17, classifier_nb17=evaluate_naive_bayes_classifier( \\\n",
    "    train_names,devtest_names,test_names,feat_num)\n",
    "    \n",
    "# display model accuracy (train and development test)\n",
    "print('Accuracy (Train): '+str(train_accuracy_nb17))\n",
    "print('Accuracy (Development Test): '+str(devtest_accuracy_nb17))\n",
    "# plot confusion matrix (train)\n",
    "plot_both_confusion_matrix(train_cm_nb17,['female','male'])\n",
    "# plot confusion matrix (dev test)\n",
    "plot_both_confusion_matrix(devtest_cm_nb17,['female','male'])"
   ]
  },
  {
   "cell_type": "code",
   "execution_count": null,
   "metadata": {},
   "outputs": [],
   "source": [
    "# set number of informative features to display\n",
    "n_informative_features=20\n",
    "# examine likelihood ratios\n",
    "classifier_nb17.show_most_informative_features(n_informative_features)"
   ]
  },
  {
   "cell_type": "code",
   "execution_count": null,
   "metadata": {
    "scrolled": false
   },
   "outputs": [],
   "source": [
    "# Show error \n",
    "show_errors(generate_errors(classifier_nb17, devtest_names, feat_num))"
   ]
  },
  {
   "cell_type": "markdown",
   "metadata": {},
   "source": [
    "Our Manually constructed complext feature, Feature 16 provides slighly better results and will be the one selected for the Naive Bayes Classifier.  "
   ]
  },
  {
   "cell_type": "markdown",
   "metadata": {
    "collapsed": true
   },
   "source": [
    "### Gender Identification Models - Decision Tree Classifier: \n",
    "\n",
    "Using our previously identified simple features we will evaluate how the model perform for each.  \n",
    "\n",
    "#### Feature 1 - First Letter\n",
    "\n",
    "In this model, we train a Decision Tree classifier using a simple feature set - namely the first letter of the name."
   ]
  },
  {
   "cell_type": "code",
   "execution_count": null,
   "metadata": {
    "scrolled": true
   },
   "outputs": [],
   "source": [
    "feat_num = 1\n",
    "# evaluate the Naive Bayes classifier using gender_features10\n",
    "train_accuracy_dt1,train_cm_dt1,train_label_names_dt1,train_report_dt1,devtest_accuracy_dt1, devtest_cm_dt1,devtest_label_names_dt1,devtest_report_dt1, classifier_dt1=evaluate_decision_tree_classifier(train_names,devtest_names,test_names,feat_num)\n",
    "# display model accuracy (train and development test)\n",
    "print('Accuracy (Train): '+str(train_accuracy_dt1))\n",
    "print('Accuracy (Development Test): '+str(devtest_accuracy_dt1))\n",
    "# plot confusion matrix (train)\n",
    "plot_both_confusion_matrix(train_cm_dt1,['female','male'])\n",
    "# plot confusion matrix (dev test)\n",
    "plot_both_confusion_matrix(devtest_cm_dt1,['female','male'])"
   ]
  },
  {
   "cell_type": "code",
   "execution_count": null,
   "metadata": {},
   "outputs": [],
   "source": [
    "# display performance report (train)\n",
    "print('Model Performance Metrics (Train):')\n",
    "print(train_report_dt1)\n",
    "# display performance report (dev test)\n",
    "print('Model Performance Metrics (Development Test):')\n",
    "print(devtest_report_dt1)"
   ]
  },
  {
   "cell_type": "code",
   "execution_count": null,
   "metadata": {},
   "outputs": [],
   "source": [
    "# Show error \n",
    "show_errors(generate_errors(classifier_dt1, devtest_names, feat_num))"
   ]
  },
  {
   "cell_type": "markdown",
   "metadata": {},
   "source": [
    "#### Feature 2 - First 2 Letters  \n",
    "\n",
    "In this model, we train a Decision Tree classifier using the first 2 letters of the name."
   ]
  },
  {
   "cell_type": "code",
   "execution_count": null,
   "metadata": {
    "scrolled": true
   },
   "outputs": [],
   "source": [
    "feat_num = 2\n",
    "# evaluate the Naive Bayes classifier using gender_features2\n",
    "train_accuracy_dt2,train_cm_dt2,train_label_names_dt2,train_report_dt2,devtest_accuracy_dt2, devtest_cm_dt2,devtest_label_names_dt2,devtest_report_dt2, classifier_dt2=evaluate_decision_tree_classifier(train_names,devtest_names,test_names,feat_num)\n",
    "# display model accuracy (train and development test)\n",
    "print('Accuracy (Train): '+str(train_accuracy_dt2))\n",
    "print('Accuracy (Development Test): '+str(devtest_accuracy_dt2))\n",
    "# plot confusion matrix (train)\n",
    "plot_both_confusion_matrix(train_cm_dt2,['female','male'])\n",
    "# plot confusion matrix (dev test)\n",
    "plot_both_confusion_matrix(devtest_cm_dt2,['female','male'])"
   ]
  },
  {
   "cell_type": "code",
   "execution_count": null,
   "metadata": {},
   "outputs": [],
   "source": [
    "# display performance report (train)\n",
    "print('Model Performance Metrics (Train):')\n",
    "print(train_report_dt2)\n",
    "# display performance report (dev test)\n",
    "print('Model Performance Metrics (Development Test):')\n",
    "print(devtest_report_dt2)"
   ]
  },
  {
   "cell_type": "code",
   "execution_count": null,
   "metadata": {},
   "outputs": [],
   "source": [
    "# Show error \n",
    "show_errors(generate_errors(classifier_dt2, devtest_names, feat_num))"
   ]
  },
  {
   "cell_type": "markdown",
   "metadata": {},
   "source": [
    "#### Feature 3 - Last Letter  \n",
    "\n",
    "In this model, we train a Decision Tree classifier using the last letter of the name."
   ]
  },
  {
   "cell_type": "code",
   "execution_count": null,
   "metadata": {
    "scrolled": true
   },
   "outputs": [],
   "source": [
    "feat_num = 3\n",
    "# evaluate the Naive Bayes classifier using gender_features3\n",
    "train_accuracy_dt3,train_cm_dt3,train_label_names_dt3,train_report_dt3,devtest_accuracy_dt3, devtest_cm_dt3,devtest_label_names_dt3,devtest_report_dt3, classifier_dt3=evaluate_decision_tree_classifier(train_names,devtest_names,test_names,feat_num)\n",
    "# display model accuracy (train and development test)\n",
    "print('Accuracy (Train): '+str(train_accuracy_dt3))\n",
    "print('Accuracy (Development Test): '+str(devtest_accuracy_dt3))\n",
    "# plot confusion matrix (train)\n",
    "plot_both_confusion_matrix(train_cm_dt3,['female','male'])\n",
    "# plot confusion matrix (dev test)\n",
    "plot_both_confusion_matrix(devtest_cm_dt3,['female','male'])"
   ]
  },
  {
   "cell_type": "code",
   "execution_count": null,
   "metadata": {},
   "outputs": [],
   "source": [
    "# display performance report (train)\n",
    "print('Model Performance Metrics (Train):')\n",
    "print(train_report_dt3)\n",
    "# display performance report (dev test)\n",
    "print('Model Performance Metrics (Development Test):')\n",
    "print(devtest_report_dt3)"
   ]
  },
  {
   "cell_type": "code",
   "execution_count": null,
   "metadata": {},
   "outputs": [],
   "source": [
    "# Show error \n",
    "show_errors(generate_errors(classifier_dt3, devtest_names, feat_num))"
   ]
  },
  {
   "cell_type": "markdown",
   "metadata": {},
   "source": [
    "#### Feature 4 - Last 2 Letters  \n",
    "\n",
    "In this model, we train a Decision Tree classifier using the last 2 letters of the name."
   ]
  },
  {
   "cell_type": "code",
   "execution_count": null,
   "metadata": {
    "scrolled": true
   },
   "outputs": [],
   "source": [
    "feat_num = 4\n",
    "# evaluate the Naive Bayes classifier using gender_features10\n",
    "train_accuracy_dt4,train_cm_dt4,train_label_names_dt4,train_report_dt4,devtest_accuracy_dt4, devtest_cm_dt4,devtest_label_names_dt4,devtest_report_dt4, classifier_dt4=evaluate_decision_tree_classifier(train_names,devtest_names,test_names,feat_num)\n",
    "# display model accuracy (train and development test)\n",
    "print('Accuracy (Train): '+str(train_accuracy_dt4))\n",
    "print('Accuracy (Development Test): '+str(devtest_accuracy_dt4))\n",
    "# plot confusion matrix (train)\n",
    "plot_both_confusion_matrix(train_cm_dt4,['female','male'])\n",
    "# plot confusion matrix (dev test)\n",
    "plot_both_confusion_matrix(devtest_cm_dt4,['female','male'])"
   ]
  },
  {
   "cell_type": "code",
   "execution_count": null,
   "metadata": {},
   "outputs": [],
   "source": [
    "# display performance report (train)\n",
    "print('Model Performance Metrics (Train):')\n",
    "print(train_report_dt4)\n",
    "# display performance report (dev test)\n",
    "print('Model Performance Metrics (Development Test):')\n",
    "print(devtest_report_dt4)"
   ]
  },
  {
   "cell_type": "code",
   "execution_count": null,
   "metadata": {},
   "outputs": [],
   "source": [
    "# Show error \n",
    "show_errors(generate_errors(classifier_dt4, devtest_names, feat_num))"
   ]
  },
  {
   "cell_type": "markdown",
   "metadata": {},
   "source": [
    "#### Feature 5 - Last 3 Letters  \n",
    "\n",
    "In this model, we train a Decision Tree classifier using the last 3 letters of the name."
   ]
  },
  {
   "cell_type": "code",
   "execution_count": null,
   "metadata": {
    "scrolled": true
   },
   "outputs": [],
   "source": [
    "feat_num = 5\n",
    "# evaluate the Naive Bayes classifier using gender_features10\n",
    "train_accuracy_dt5,train_cm_dt5,train_label_names_dt5,train_report_dt5,devtest_accuracy_dt5, devtest_cm_dt5,devtest_label_names_dt5,devtest_report_dt5, classifier_dt5=evaluate_decision_tree_classifier(train_names,devtest_names,test_names,feat_num)\n",
    "# display model accuracy (train and development test)\n",
    "print('Accuracy (Train): '+str(train_accuracy_dt5))\n",
    "print('Accuracy (Development Test): '+str(devtest_accuracy_dt5))\n",
    "# plot confusion matrix (train)\n",
    "plot_both_confusion_matrix(train_cm_dt5,['female','male'])\n",
    "# plot confusion matrix (dev test)\n",
    "plot_both_confusion_matrix(devtest_cm_dt5,['female','male'])"
   ]
  },
  {
   "cell_type": "code",
   "execution_count": null,
   "metadata": {},
   "outputs": [],
   "source": [
    "# display performance report (train)\n",
    "print('Model Performance Metrics (Train):')\n",
    "print(train_report_dt5)\n",
    "# display performance report (dev test)\n",
    "print('Model Performance Metrics (Development Test):')\n",
    "print(devtest_report_dt5)"
   ]
  },
  {
   "cell_type": "code",
   "execution_count": null,
   "metadata": {},
   "outputs": [],
   "source": [
    "# Show error \n",
    "show_errors(generate_errors(classifier_dt5, devtest_names, feat_num))"
   ]
  },
  {
   "cell_type": "markdown",
   "metadata": {},
   "source": [
    "#### Feature 6 - Vowels Count  \n",
    "\n",
    "In this model, we train a Decision Tree classifier using a vowel count the name."
   ]
  },
  {
   "cell_type": "code",
   "execution_count": null,
   "metadata": {
    "scrolled": true
   },
   "outputs": [],
   "source": [
    "feat_num = 6\n",
    "# evaluate the Naive Bayes classifier using gender_features6\n",
    "train_accuracy_dt6,train_cm_dt6,train_label_names_dt6,train_report_dt6,devtest_accuracy_dt6, devtest_cm_dt6,devtest_label_names_dt6,devtest_report_dt6, classifier_dt6=evaluate_decision_tree_classifier(train_names,devtest_names,test_names,feat_num)\n",
    "# display model accuracy (train and development test)\n",
    "print('Accuracy (Train): '+str(train_accuracy_dt6))\n",
    "print('Accuracy (Development Test): '+str(devtest_accuracy_dt6))\n",
    "# plot confusion matrix (train)\n",
    "plot_both_confusion_matrix(train_cm_dt6,['female','male'])\n",
    "# plot confusion matrix (dev test)\n",
    "plot_both_confusion_matrix(devtest_cm_dt6,['female','male'])"
   ]
  },
  {
   "cell_type": "code",
   "execution_count": null,
   "metadata": {},
   "outputs": [],
   "source": [
    "# display performance report (train)\n",
    "print('Model Performance Metrics (Train):')\n",
    "print(train_report_dt6)\n",
    "# display performance report (dev test)\n",
    "print('Model Performance Metrics (Development Test):')\n",
    "print(devtest_report_dt6)"
   ]
  },
  {
   "cell_type": "code",
   "execution_count": null,
   "metadata": {},
   "outputs": [],
   "source": [
    "# Show error \n",
    "show_errors(generate_errors(classifier_dt6, devtest_names, feat_num))"
   ]
  },
  {
   "cell_type": "markdown",
   "metadata": {},
   "source": [
    "#### Feature 7 - Hard consonants using general rules of c and g  \n",
    "\n",
    "In this model, we train a Decision Tree classifier Hard consonants using general rules of c and g."
   ]
  },
  {
   "cell_type": "code",
   "execution_count": null,
   "metadata": {
    "scrolled": true
   },
   "outputs": [],
   "source": [
    "feat_num = 7\n",
    "# evaluate the Naive Bayes classifier using gender_features10\n",
    "train_accuracy_dt7,train_cm_dt7,train_label_names_dt7,train_report_dt7,devtest_accuracy_dt7, devtest_cm_dt7,devtest_label_names_dt7,devtest_report_dt7, classifier_dt7=evaluate_decision_tree_classifier(train_names,devtest_names,test_names,feat_num)\n",
    "# display model accuracy (train and development test)\n",
    "print('Accuracy (Train): '+str(train_accuracy_dt7))\n",
    "print('Accuracy (Development Test): '+str(devtest_accuracy_dt7))\n",
    "# plot confusion matrix (train)\n",
    "plot_both_confusion_matrix(train_cm_dt7,['female','male'])\n",
    "# plot confusion matrix (dev test)\n",
    "plot_both_confusion_matrix(devtest_cm_dt7,['female','male'])"
   ]
  },
  {
   "cell_type": "code",
   "execution_count": null,
   "metadata": {},
   "outputs": [],
   "source": [
    "# display performance report (train)\n",
    "print('Model Performance Metrics (Train):')\n",
    "print(train_report_dt7)\n",
    "# display performance report (dev test)\n",
    "print('Model Performance Metrics (Development Test):')\n",
    "print(devtest_report_dt7)"
   ]
  },
  {
   "cell_type": "code",
   "execution_count": null,
   "metadata": {},
   "outputs": [],
   "source": [
    "# Show error \n",
    "show_errors(generate_errors(classifier_dt7, devtest_names, feat_num))"
   ]
  },
  {
   "cell_type": "markdown",
   "metadata": {},
   "source": [
    "#### Feature 8 - Soft Consonants  using general rules of c and g \n",
    "\n",
    "In this model, we train a Decision Tree classifier using soft consonants using general rules of c and g."
   ]
  },
  {
   "cell_type": "code",
   "execution_count": null,
   "metadata": {
    "scrolled": true
   },
   "outputs": [],
   "source": [
    "feat_num = 8\n",
    "# evaluate the Naive Bayes classifier using gender_features10\n",
    "train_accuracy_dt8,train_cm_dt8,train_label_names_dt8,train_report_dt8,devtest_accuracy_dt8, devtest_cm_dt8,devtest_label_names_dt8,devtest_report_dt8, classifier_dt8=evaluate_decision_tree_classifier(train_names,devtest_names,test_names,feat_num)\n",
    "# display model accuracy (train and development test)\n",
    "print('Accuracy (Train): '+str(train_accuracy_dt8))\n",
    "print('Accuracy (Development Test): '+str(devtest_accuracy_dt8))\n",
    "# plot confusion matrix (train)\n",
    "plot_both_confusion_matrix(train_cm_dt8,['female','male'])\n",
    "# plot confusion matrix (dev test)\n",
    "plot_both_confusion_matrix(devtest_cm_dt8,['female','male'])"
   ]
  },
  {
   "cell_type": "code",
   "execution_count": null,
   "metadata": {},
   "outputs": [],
   "source": [
    "# display performance report (train)\n",
    "print('Model Performance Metrics (Train):')\n",
    "print(train_report_dt8)\n",
    "# display performance report (dev test)\n",
    "print('Model Performance Metrics (Development Test):')\n",
    "print(devtest_report_dt8)"
   ]
  },
  {
   "cell_type": "code",
   "execution_count": null,
   "metadata": {},
   "outputs": [],
   "source": [
    "# Show error \n",
    "show_errors(generate_errors(classifier_dt8, devtest_names, feat_num))"
   ]
  },
  {
   "cell_type": "markdown",
   "metadata": {},
   "source": [
    "#### Feature 9 - Syllable Count  \n",
    "\n",
    "In this model, we train a Decision Tree classifier using syllable count."
   ]
  },
  {
   "cell_type": "code",
   "execution_count": null,
   "metadata": {
    "scrolled": true
   },
   "outputs": [],
   "source": [
    "feat_num = 9\n",
    "# evaluate the Decision Tree classifier using gender_features10\n",
    "train_accuracy_dt9,train_cm_dt9,train_label_names_dt9,train_report_dt9,devtest_accuracy_dt9, devtest_cm_dt9,devtest_label_names_dt9,devtest_report_dt9, classifier_dt9=evaluate_decision_tree_classifier(train_names,devtest_names,test_names,feat_num)\n",
    "# display model accuracy (train and development test)\n",
    "print('Accuracy (Train): '+str(train_accuracy_dt9))\n",
    "print('Accuracy (Development Test): '+str(devtest_accuracy_dt9))\n",
    "# plot confusion matrix (train)\n",
    "plot_both_confusion_matrix(train_cm_dt9,['female','male'])\n",
    "# plot confusion matrix (dev test)\n",
    "plot_both_confusion_matrix(devtest_cm_dt9,['female','male'])"
   ]
  },
  {
   "cell_type": "code",
   "execution_count": null,
   "metadata": {},
   "outputs": [],
   "source": [
    "# display performance report (train)\n",
    "print('Model Performance Metrics (Train):')\n",
    "print(train_report_dt9)\n",
    "# display performance report (dev test)\n",
    "print('Model Performance Metrics (Development Test):')\n",
    "print(devtest_report_dt9)"
   ]
  },
  {
   "cell_type": "code",
   "execution_count": null,
   "metadata": {},
   "outputs": [],
   "source": [
    "# Show error \n",
    "show_errors(generate_errors(classifier_dt9, devtest_names, feat_num))"
   ]
  },
  {
   "cell_type": "markdown",
   "metadata": {},
   "source": [
    "#### Feature 10 - Name length  \n",
    "\n",
    "In this model, we train a Decision Tree classifier using name length."
   ]
  },
  {
   "cell_type": "code",
   "execution_count": null,
   "metadata": {
    "scrolled": true
   },
   "outputs": [],
   "source": [
    "feat_num = 10\n",
    "# evaluate the Decision Tree classifier using gender_features10\n",
    "train_accuracy_dt10,train_cm_dt10,train_label_names_dt10,train_report_dt10,devtest_accuracy_dt10, devtest_cm_dt10,devtest_label_names_dt10,devtest_report_dt10, classifier_dt10=evaluate_decision_tree_classifier(train_names,devtest_names,test_names,feat_num)\n",
    "# display model accuracy (train and development test)\n",
    "print('Accuracy (Train): '+str(train_accuracy_dt10))\n",
    "print('Accuracy (Development Test): '+str(devtest_accuracy_dt10))\n",
    "# plot confusion matrix (train)\n",
    "plot_both_confusion_matrix(train_cm_dt10,['female','male'])\n",
    "# plot confusion matrix (dev test)\n",
    "plot_both_confusion_matrix(devtest_cm_dt10,['female','male'])"
   ]
  },
  {
   "cell_type": "code",
   "execution_count": null,
   "metadata": {},
   "outputs": [],
   "source": [
    "# display performance report (train)\n",
    "print('Model Performance Metrics (Train):')\n",
    "print(train_report_dt10)\n",
    "# display performance report (dev test)\n",
    "print('Model Performance Metrics (Development Test):')\n",
    "print(devtest_report_dt10)"
   ]
  },
  {
   "cell_type": "code",
   "execution_count": null,
   "metadata": {},
   "outputs": [],
   "source": [
    "# Show error \n",
    "show_errors(generate_errors(classifier_dt10, devtest_names, feat_num))"
   ]
  },
  {
   "cell_type": "markdown",
   "metadata": {},
   "source": [
    "#### Feature 11 - Character Count  \n",
    "\n",
    "In this model, we train a Decision Tree classifier using character count."
   ]
  },
  {
   "cell_type": "code",
   "execution_count": null,
   "metadata": {
    "scrolled": true
   },
   "outputs": [],
   "source": [
    "feat_num = 11\n",
    "# evaluate the Decision Tree classifier using gender_features10\n",
    "train_accuracy_dt11,train_cm_dt11,train_label_names_dt11,train_report_dt11,devtest_accuracy_dt11, devtest_cm_dt11,devtest_label_names_dt11,devtest_report_dt11, classifier_dt11=evaluate_decision_tree_classifier(train_names,devtest_names,test_names,feat_num)\n",
    "# display model accuracy (train and development test)\n",
    "print('Accuracy (Train): '+str(train_accuracy_dt11))\n",
    "print('Accuracy (Development Test): '+str(devtest_accuracy_dt11))\n",
    "# plot confusion matrix (train)\n",
    "plot_both_confusion_matrix(train_cm_dt11,['female','male'])\n",
    "# plot confusion matrix (dev test)\n",
    "plot_both_confusion_matrix(devtest_cm_dt11,['female','male'])"
   ]
  },
  {
   "cell_type": "code",
   "execution_count": null,
   "metadata": {},
   "outputs": [],
   "source": [
    "# display performance report (train)\n",
    "print('Model Performance Metrics (Train):')\n",
    "print(train_report_dt11)\n",
    "# display performance report (dev test)\n",
    "print('Model Performance Metrics (Development Test):')\n",
    "print(devtest_report_dt11)"
   ]
  },
  {
   "cell_type": "code",
   "execution_count": null,
   "metadata": {},
   "outputs": [],
   "source": [
    "# Show error \n",
    "show_errors(generate_errors(classifier_dt11, devtest_names, feat_num))"
   ]
  },
  {
   "cell_type": "markdown",
   "metadata": {},
   "source": [
    "#### Feature 12 - Character Present  \n",
    "\n",
    "In this model, we train a Decision Tree classifier using character being present in name."
   ]
  },
  {
   "cell_type": "code",
   "execution_count": null,
   "metadata": {
    "scrolled": true
   },
   "outputs": [],
   "source": [
    "feat_num = 12\n",
    "# evaluate the Decision Tree classifier using gender_features10\n",
    "train_accuracy_dt12,train_cm_dt12,train_label_names_dt12,train_report_dt12,devtest_accuracy_dt12, devtest_cm_dt12,devtest_label_names_dt12,devtest_report_dt12, classifier_dt12=evaluate_decision_tree_classifier(train_names,devtest_names,test_names,feat_num)\n",
    "# display model accuracy (train and development test)\n",
    "print('Accuracy (Train): '+str(train_accuracy_dt12))\n",
    "print('Accuracy (Development Test): '+str(devtest_accuracy_dt12))\n",
    "# plot confusion matrix (train)\n",
    "plot_both_confusion_matrix(train_cm_dt12,['female','male'])\n",
    "# plot confusion matrix (dev test)\n",
    "plot_both_confusion_matrix(devtest_cm_dt12,['female','male'])"
   ]
  },
  {
   "cell_type": "code",
   "execution_count": null,
   "metadata": {},
   "outputs": [],
   "source": [
    "# display performance report (train)\n",
    "print('Model Performance Metrics (Train):')\n",
    "print(train_report_dt12)\n",
    "# display performance report (dev test)\n",
    "print('Model Performance Metrics (Development Test):')\n",
    "print(devtest_report_dt12)"
   ]
  },
  {
   "cell_type": "code",
   "execution_count": null,
   "metadata": {},
   "outputs": [],
   "source": [
    "# Show error \n",
    "show_errors(generate_errors(classifier_dt12, devtest_names, feat_num))"
   ]
  },
  {
   "cell_type": "markdown",
   "metadata": {},
   "source": [
    "#### Feature 13 - Count of each Letter  \n",
    "\n",
    "In this model, we train a Decision Tree classifier using a count of each letter.  "
   ]
  },
  {
   "cell_type": "code",
   "execution_count": null,
   "metadata": {
    "scrolled": true
   },
   "outputs": [],
   "source": [
    "feat_num = 13\n",
    "# evaluate the Decision Tree classifier using gender_features13\n",
    "train_accuracy_dt13,train_cm_dt13,train_label_names_dt13,train_report_dt13,devtest_accuracy_dt13, devtest_cm_dt13,devtest_label_names_dt13,devtest_report_dt13, classifier_dt13=evaluate_decision_tree_classifier(train_names,devtest_names,test_names,feat_num)\n",
    "# display model accuracy (train and development test)\n",
    "print('Accuracy (Train): '+str(train_accuracy_dt13))\n",
    "print('Accuracy (Development Test): '+str(devtest_accuracy_dt13))\n",
    "# plot confusion matrix (train)\n",
    "plot_both_confusion_matrix(train_cm_dt13,['female','male'])\n",
    "# plot confusion matrix (dev test)\n",
    "plot_both_confusion_matrix(devtest_cm_dt13,['female','male'])"
   ]
  },
  {
   "cell_type": "code",
   "execution_count": null,
   "metadata": {},
   "outputs": [],
   "source": [
    "# display performance report (train)\n",
    "print('Model Performance Metrics (Train):')\n",
    "print(train_report_dt13)\n",
    "# display performance report (dev test)\n",
    "print('Model Performance Metrics (Development Test):')\n",
    "print(devtest_report_dt13)"
   ]
  },
  {
   "cell_type": "code",
   "execution_count": null,
   "metadata": {},
   "outputs": [],
   "source": [
    "# Show error \n",
    "show_errors(generate_errors(classifier_dt13, devtest_names, feat_num))"
   ]
  },
  {
   "cell_type": "markdown",
   "metadata": {},
   "source": [
    "#### Feature 14 - Count of pair of letters in the alphabet  \n",
    "\n",
    "In this model, we train a Decision Tree classifier using count of each pair of letters in the alphabet."
   ]
  },
  {
   "cell_type": "code",
   "execution_count": null,
   "metadata": {
    "scrolled": true
   },
   "outputs": [],
   "source": [
    "feat_num = 14\n",
    "# evaluate the Decision Tree classifier using gender_features14\n",
    "train_accuracy_dt14,train_cm_dt14,train_label_names_dt14,train_report_dt14,devtest_accuracy_dt14, devtest_cm_dt14,devtest_label_names_dt14,devtest_report_dt14, classifier_dt14=evaluate_decision_tree_classifier(train_names,devtest_names,test_names,feat_num)\n",
    "# display model accuracy (train and development test)\n",
    "print('Accuracy (Train): '+str(train_accuracy_dt14))\n",
    "print('Accuracy (Development Test): '+str(devtest_accuracy_dt14))\n",
    "# plot confusion matrix (train)\n",
    "plot_both_confusion_matrix(train_cm_dt14,['female','male'])\n",
    "# plot confusion matrix (dev test)\n",
    "plot_both_confusion_matrix(devtest_cm_dt14,['female','male'])"
   ]
  },
  {
   "cell_type": "code",
   "execution_count": null,
   "metadata": {},
   "outputs": [],
   "source": [
    "# display performance report (train)\n",
    "print('Model Performance Metrics (Train):')\n",
    "print(train_report_dt14)\n",
    "# display performance report (dev test)\n",
    "print('Model Performance Metrics (Development Test):')\n",
    "print(devtest_report_dt14)"
   ]
  },
  {
   "cell_type": "code",
   "execution_count": null,
   "metadata": {},
   "outputs": [],
   "source": [
    "# Show error \n",
    "show_errors(generate_errors(classifier_dt14, devtest_names, feat_num))"
   ]
  },
  {
   "cell_type": "markdown",
   "metadata": {
    "collapsed": true
   },
   "source": [
    "#### Features Optimization  \n",
    "\n",
    "In order to build the best possible Naive Baeyes Module, we will identify the best features based on accuracy rating.\n"
   ]
  },
  {
   "cell_type": "code",
   "execution_count": null,
   "metadata": {
    "collapsed": true
   },
   "outputs": [],
   "source": [
    "ranked_features = get_sorted_feature_accuracies(1, 14, 'dtc')"
   ]
  },
  {
   "cell_type": "code",
   "execution_count": null,
   "metadata": {},
   "outputs": [],
   "source": [
    "features = {\n",
    "    1: \"First Letter\",\n",
    "    2: \"First 2 Letters\",\n",
    "    3: \"Last Letter\", \n",
    "    4: \"Last 2 Letters\", \n",
    "    5: \"Last 3 Letters\", \n",
    "    6: \"Vowels count\",\n",
    "    7: \"Hard consonants using general rules of c and g\",\n",
    "    8: \"Soft consonants using general rules of c and g\",\n",
    "    9: \"Syllable Count of names via textstat\",\n",
    "    10: \"Name length\",\n",
    "    11: \"Character count\",\n",
    "    12: \"Character present\",\n",
    "    13: \"Count of each letter\",\n",
    "    14: \"Count of pair of letters in the alphabet\",\n",
    "}\n",
    "\n",
    "print(\"Top Five Single Features with the Highest Accuracy\")\n",
    "print(\"---------------------------------------------------------------\")\n",
    "for (feat_num, accuracy) in ranked_features[0:5]:\n",
    "    print('Feature: %-30s Accuracy: %-8s' %(features[feat_num], accuracy))\n",
    "\n",
    "print(\"---------------------------------------------------------------\")"
   ]
  },
  {
   "cell_type": "code",
   "execution_count": null,
   "metadata": {
    "scrolled": true
   },
   "outputs": [],
   "source": [
    "optimized_features = optimized_solution('dtc')\n",
    "optimized_features\n"
   ]
  },
  {
   "cell_type": "markdown",
   "metadata": {},
   "source": [
    "We see that the optmized solution yielded an accuracy of 0.774, while the highest accuracy achieved by any single feature was 0.79. It appear, that we have a case of overfitting with our optimization option for decision tree classifier.  \n",
    "We will not used this feature set for best model for decision tree classifier.  \n",
    "\n",
    "The following features provided the optimized solution:"
   ]
  },
  {
   "cell_type": "code",
   "execution_count": null,
   "metadata": {},
   "outputs": [],
   "source": [
    "print(\"Following features provide the most optmized solution: \")\n",
    "for feat_num in optimized_features[0]:\n",
    "    print('    -> %-30s' %(features[feat_num]))"
   ]
  },
  {
   "cell_type": "markdown",
   "metadata": {},
   "source": [
    "#### Complext Features Evaluation  \n",
    "\n",
    "Based on the single features evaluation, we developped some complext features that will will now evaluate.  "
   ]
  },
  {
   "cell_type": "markdown",
   "metadata": {},
   "source": [
    "##### Feature 15 - Last Letter / Last 2 Letter  \n",
    "\n",
    "In this model, we train a Decision Tree classifier using the last letter of the name and the last two letters of a name."
   ]
  },
  {
   "cell_type": "code",
   "execution_count": null,
   "metadata": {
    "scrolled": true
   },
   "outputs": [],
   "source": [
    "feat_num = 15\n",
    "# evaluate the Decision Tree classifier using gender_features15\n",
    "train_accuracy_dt15,train_cm_dt15,train_label_names_dt15,train_report_dt15,devtest_accuracy_dt15, devtest_cm_dt15,devtest_label_names_dt15,devtest_report_dt15, classifier_dt15=evaluate_decision_tree_classifier(train_names,devtest_names,test_names,feat_num)\n",
    "# display model accuracy (train and development test)\n",
    "print('Accuracy (Train): '+str(train_accuracy_dt15))\n",
    "print('Accuracy (Development Test): '+str(devtest_accuracy_dt15))\n",
    "# plot confusion matrix (train)\n",
    "plot_both_confusion_matrix(train_cm_dt15,['female','male'])\n",
    "# plot confusion matrix (dev test)\n",
    "plot_both_confusion_matrix(devtest_cm_dt15,['female','male'])"
   ]
  },
  {
   "cell_type": "code",
   "execution_count": null,
   "metadata": {},
   "outputs": [],
   "source": [
    "# display performance report (train)\n",
    "print('Model Performance Metrics (Train):')\n",
    "print(train_report_dt15)\n",
    "# display performance report (dev test)\n",
    "print('Model Performance Metrics (Development Test):')\n",
    "print(devtest_report_dt15)"
   ]
  },
  {
   "cell_type": "code",
   "execution_count": null,
   "metadata": {},
   "outputs": [],
   "source": [
    "# Show error \n",
    "show_errors(generate_errors(classifier_dt15, devtest_names, feat_num))"
   ]
  },
  {
   "cell_type": "markdown",
   "metadata": {},
   "source": [
    "#### Feature 16 - Complex Combination Feature  \n",
    "\n",
    "In this model, we train a Decision Tree classifier using a feature set composed the first letter, the last letter, the last two letters, the last 3 letters, the letter count, the presence of a letter, and all two letter combinations."
   ]
  },
  {
   "cell_type": "code",
   "execution_count": null,
   "metadata": {
    "scrolled": true
   },
   "outputs": [],
   "source": [
    "feat_num = 16\n",
    "# evaluate the Decision Tree classifier using gender_features16\n",
    "train_accuracy_dt16,train_cm_dt16,train_label_names_dt16,train_report_dt16,devtest_accuracy_dt16, devtest_cm_dt16,devtest_label_names_dt16,devtest_report_dt16, classifier_dt16=evaluate_decision_tree_classifier(train_names,devtest_names,test_names,feat_num)\n",
    "# display model accuracy (train and development test)\n",
    "print('Accuracy (Train): '+str(train_accuracy_dt16))\n",
    "print('Accuracy (Development Test): '+str(devtest_accuracy_dt16))\n",
    "# plot confusion matrix (train)\n",
    "plot_both_confusion_matrix(train_cm_dt16,['female','male'])\n",
    "# plot confusion matrix (dev test)\n",
    "plot_both_confusion_matrix(devtest_cm_dt16,['female','male'])"
   ]
  },
  {
   "cell_type": "code",
   "execution_count": null,
   "metadata": {},
   "outputs": [],
   "source": [
    "# display performance report (train)\n",
    "print('Model Performance Metrics (Train):')\n",
    "print(train_report_dt16)\n",
    "# display performance report (dev test)\n",
    "print('Model Performance Metrics (Development Test):')\n",
    "print(devtest_report_dt16)"
   ]
  },
  {
   "cell_type": "code",
   "execution_count": null,
   "metadata": {},
   "outputs": [],
   "source": [
    "# Show error \n",
    "show_errors(generate_errors(classifier_dt16, devtest_names, feat_num))"
   ]
  },
  {
   "cell_type": "markdown",
   "metadata": {},
   "source": [
    "The large difference between the performance on the training and development test data sets is a clear indication of over-fitting. Recall that we generally observed a much smaller difference in the performance between the training and development test sets for Naive Bayes classifiers. This is an expected result. The overall performance of a Naive Bayes classifier can be improved with the inclusion of weak features, while the performance of the Decision Tree classifier cannot by construction."
   ]
  },
  {
   "cell_type": "markdown",
   "metadata": {},
   "source": [
    "The best results we got for the Decision Tree classifier was with combination Feature 15.  However, these results are under pare with respect to the results we got with the Naive Bayes Classifier (Feature 16).  \n",
    "\n",
    "We will there select this model as the best.  "
   ]
  },
  {
   "cell_type": "markdown",
   "metadata": {},
   "source": [
    "### Model Selection (Choose Best Candidate) \n",
    "\n",
    "#### Check the model's final performance on the test set. "
   ]
  },
  {
   "cell_type": "code",
   "execution_count": null,
   "metadata": {
    "collapsed": true
   },
   "outputs": [],
   "source": [
    "# create test set (final test)\n",
    "feat_num = 16\n",
    "test_set = [(get_features(n,feat_num), g)  for (n, g) in test_names]\n",
    "# extract actual classes (gold)\n",
    "test_set_gold_nb16 = [g  for (n, g) in test_names]\n",
    "\n",
    "# create predicted classes (test)\n",
    "test_set_predictions_nb16 = [classifier_nb16.classify(get_features(n,feat_num))  for (n, g) in test_names]\n",
    "# compute accuracy (test set)\n",
    "test_accuracy_nb16=nltk.classify.accuracy(classifier_nb16, test_set)\n",
    "\n",
    "# create confusion matrix\n",
    "test_cm_nb16=confusion_matrix(test_set_gold_nb16, test_set_predictions_nb16)\n",
    "# get unique classes (train)\n",
    "test_label_names_nb16 =  list(set(test_set_gold_nb16) | set(test_set_predictions_nb16))    \n",
    "# create table with precision, recall, f1-score, and support\n",
    "test_report_nb16=classification_report(test_set_gold_nb16, test_set_predictions_nb16,\n",
    "    digits=display_digits)"
   ]
  },
  {
   "cell_type": "code",
   "execution_count": null,
   "metadata": {},
   "outputs": [],
   "source": [
    "# display model accuracy (train and development test)\n",
    "print('Accuracy (Train): '+str(train_accuracy_nb16))\n",
    "print('Accuracy (Development Test): '+str(devtest_accuracy_nb16))\n",
    "print('Accuracy (Final Test): '+str(test_accuracy_nb16))\n",
    "# plot confusion matrix (train)\n",
    "plot_both_confusion_matrix(train_cm_nb16,['female','male'])\n",
    "# plot confusion matrix (dev test)\n",
    "plot_both_confusion_matrix(devtest_cm_nb16,['female','male'])\n",
    "# plot confusion matrix (dev test)\n",
    "plot_both_confusion_matrix(test_cm_nb16,['female','male'])"
   ]
  },
  {
   "cell_type": "code",
   "execution_count": null,
   "metadata": {},
   "outputs": [],
   "source": [
    "# display performance report (train)\n",
    "print('Model Performance Metrics (Train):')\n",
    "print(train_report_nb16)\n",
    "# display performance report (dev test)\n",
    "print('Model Performance Metrics (Development Test):')\n",
    "print(devtest_report_nb16)\n",
    "# display performance report (test)\n",
    "print('Model Performance Metrics (Test):')\n",
    "print(test_report_nb16)"
   ]
  },
  {
   "cell_type": "markdown",
   "metadata": {},
   "source": [
    "#### How does the performance on the test set compare to the performance on the dev-test set? \n",
    "\n",
    "We can see that our model performance degrades on predictions of male names as we move from the training data set to development test data set, then again from the development test data set to the final test data set. The performance degradation is less apparent on female names.\n",
    "\n",
    "The proportion of female names is roughly the same across the training, development test, and final test data sets (62.6%, 65.2%, and 65.4% respectively). The slightly higher proportion of female names in the development test and final test data sets likely improves our performance marginally."
   ]
  },
  {
   "cell_type": "markdown",
   "metadata": {},
   "source": [
    "#### Is this what you'd expect?"
   ]
  },
  {
   "cell_type": "markdown",
   "metadata": {},
   "source": [
    "### Group Project Lessons Learned"
   ]
  },
  {
   "cell_type": "markdown",
   "metadata": {},
   "source": [
    "We came together very well as a group. We used www.slack.com and www.github.com to communicate and share our work.  Our efforts were a little disjointed.  Possibly because we come together on within one week of the due date of the project (thank you Karen for kick starting the project) and we jump in with producing code.  Had we a chance to allocate the work better in the prior week, we may had a better work organization.  Also, we may have been a little timid in electing a person to act as a \"pm\".  Finally, some of us had problem using github and we did not fully make use of the version controlling features that it offered which make compiling a final document a little bit more difficult.  \n",
    "\n",
    "#### Take-aways  \n",
    "+ Some beforehand planning\n",
    "+ Mastering Github"
   ]
  },
  {
   "cell_type": "code",
   "execution_count": null,
   "metadata": {
    "collapsed": true
   },
   "outputs": [],
   "source": []
  }
 ],
 "metadata": {
  "anaconda-cloud": {},
  "kernelspec": {
   "display_name": "Python [default]",
   "language": "python",
   "name": "python2"
  },
  "language_info": {
   "codemirror_mode": {
    "name": "ipython",
    "version": 2
   },
   "file_extension": ".py",
   "mimetype": "text/x-python",
   "name": "python",
   "nbconvert_exporter": "python",
   "pygments_lexer": "ipython2",
   "version": "2.7.13"
  }
 },
 "nbformat": 4,
 "nbformat_minor": 2
}
