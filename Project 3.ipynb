{
 "cells": [
  {
   "cell_type": "markdown",
   "metadata": {},
   "source": [
    "## Project 3\n",
    "\n",
    "This is a collaborative project conducted by the Fall 2017 students of DATA 620 at The City University of New York, in partial fulfillment of the requirements for the MS in Data Science degree.\n",
    "\n",
    "### Problem Description\n",
    "\n",
    "This is a Team Project! For this project, please work with the entire class as one collaborative group! Your project should be submitted (as an IPython Notebook via GitHub) by end of day on Monday, October 25th. The group should present their code and findings in our meet-up on Tuesday October 26th. The ability to be an effective member of a virtual team is highly valued in the data science job market.\n",
    "Using any of the three classifiers described in chapter 6 of Natural Language Processing with Python, and any features you can think of, build the best name gender classifier you can. Begin by splitting the Names Corpus into three subsets: 500 words for the test set, 500 words for the dev-test set, and the remaining 6900 words for the training set. Then, starting with the example name gender classifier, make incremental improvements. Use the dev-test set to check your progress. Once you are satisfied with your classifier, check its final performance on the test set. How does the performance on the test set compare to the performance on the dev-test set? Is this what you'd expect?\n",
    "\n",
    "Source: Natural Language Processing with Python, exercise 6.10.2.\n",
    "\n",
    "### Contributors Include\n",
    "\n",
    "* Joy Payton\n",
    "* Keith Folsom\n",
    "* Sonya Hong\n",
    "\n",
    "\n",
    "### First, Obtain the Corpus\n",
    "\n",
    "Note: If not already executed, nltk.download() will allow you access to the names corpus"
   ]
  },
  {
   "cell_type": "code",
   "execution_count": 1,
   "metadata": {},
   "outputs": [
    {
     "name": "stdout",
     "output_type": "stream",
     "text": [
      "[nltk_data] Downloading package names to\n",
      "[nltk_data]     C:\\Users\\Sonya\\AppData\\Roaming\\nltk_data...\n",
      "[nltk_data]   Package names is already up-to-date!\n"
     ]
    },
    {
     "data": {
      "text/plain": [
       "True"
      ]
     },
     "execution_count": 1,
     "metadata": {},
     "output_type": "execute_result"
    }
   ],
   "source": [
    "import nltk\n",
    "from nltk.corpus import names\n",
    "import random\n",
    "\n",
    "nltk.download('names')"
   ]
  },
  {
   "cell_type": "code",
   "execution_count": 2,
   "metadata": {
    "collapsed": true
   },
   "outputs": [],
   "source": [
    "names = ([(name, 'male') for name in names.words('male.txt')] + \\\n",
    "         [(name, 'female') for name in names.words('female.txt')])"
   ]
  },
  {
   "cell_type": "code",
   "execution_count": 3,
   "metadata": {},
   "outputs": [
    {
     "data": {
      "text/plain": [
       "[(u'Joane', 'female'),\n",
       " (u'Ariella', 'female'),\n",
       " (u'Gigi', 'female'),\n",
       " (u'Taddeus', 'male'),\n",
       " (u'Adam', 'male'),\n",
       " (u'Alfredo', 'male'),\n",
       " (u'Cristi', 'female'),\n",
       " (u'Louisette', 'female'),\n",
       " (u'Brier', 'female')]"
      ]
     },
     "execution_count": 3,
     "metadata": {},
     "output_type": "execute_result"
    }
   ],
   "source": [
    "random.shuffle(names)\n",
    "\n",
    "# let's see what the randomly shuffles names look like\n",
    "names[1:10]"
   ]
  },
  {
   "cell_type": "markdown",
   "metadata": {},
   "source": [
    "### Create three subsets for development and error analysis of the models.\n",
    "\n",
    "##### Development set:\n",
    "* 6900 names for the training set\n",
    "* 500 names for the dev-test set  \n",
    "\n",
    "##### Test set:\n",
    "* 500 names for the testing set"
   ]
  },
  {
   "cell_type": "code",
   "execution_count": 4,
   "metadata": {
    "collapsed": true
   },
   "outputs": [],
   "source": [
    "test_names, devtest_names, train_names = names[0:500], names[500:1000], names[1000:]"
   ]
  },
  {
   "cell_type": "code",
   "execution_count": 5,
   "metadata": {},
   "outputs": [
    {
     "name": "stdout",
     "output_type": "stream",
     "text": [
      "Training Set = 6944\n",
      "Dev-Test Set = 500\n",
      "Test Set = 500\n"
     ]
    }
   ],
   "source": [
    "# Confirm the size of the three subsets\n",
    "print(\"Training Set = {}\".format(len(train_names)))\n",
    "print(\"Dev-Test Set = {}\".format(len(devtest_names)))\n",
    "print(\"Test Set = {}\".format(len(test_names)))"
   ]
  },
  {
   "cell_type": "markdown",
   "metadata": {},
   "source": [
    "### Feature Extractor Functions\n",
    "\n",
    "This section below is to incrementallly improve the feature extraction functions which are subsequently applied to the development and test datasets."
   ]
  },
  {
   "cell_type": "code",
   "execution_count": 6,
   "metadata": {
    "collapsed": true
   },
   "outputs": [],
   "source": [
    "# book example\n",
    "def gender_features(name):\n",
    "    return {'last_letter': name[-1]}\n",
    "\n",
    "# most names beginning with a vowel are associated with females\n",
    "def gender_features2(name):\n",
    "    return {'first_letter': name[0]}\n",
    "\n",
    "# from the book feature extractor that overfits \n",
    "def gender_features3(name):\n",
    "    features = {}\n",
    "    features[\"firstletter\"] = name[0].lower()\n",
    "    features[\"lastletter\"] = name[-1].lower()\n",
    "    for letter in 'abcdefghijklmnopqrstuvwxyz':\n",
    "        features[\"count(%s)\" % letter] = name.lower().count(letter)\n",
    "        features[\"has(%s)\" % letter] = (letter in name.lower())\n",
    "    return features\n",
    "\n",
    "## from the book\n",
    "def gender_features4(name):\n",
    "    return {\"suffix1\": name[-1:], \"suffix2\": name[-2:]}"
   ]
  },
  {
   "cell_type": "markdown",
   "metadata": {},
   "source": [
    "### Helper Functions"
   ]
  },
  {
   "cell_type": "code",
   "execution_count": 7,
   "metadata": {
    "collapsed": true
   },
   "outputs": [],
   "source": [
    "# Generic function to generate an error list based the arguments provided\n",
    "# Accepts the classifer, names dataset, and the extractor function\n",
    "# Returns the list of errors\n",
    "\n",
    "def generate_errors(classifier, dataset, extractor_function): \n",
    "    \n",
    "    errors = [] \n",
    "\n",
    "    for (name, tag) in dataset:\n",
    "        guess = classifier.classify(extractor_function(name)) \n",
    "        if guess != tag: \n",
    "            errors.append((tag, guess, name))\n",
    "            \n",
    "    return errors"
   ]
  },
  {
   "cell_type": "code",
   "execution_count": 8,
   "metadata": {
    "collapsed": true
   },
   "outputs": [],
   "source": [
    "# Generic function to display classification errors\n",
    "# Accepts the error list and an optional argument to show only n number of errors\n",
    "\n",
    "def show_errors(errors, n=None):\n",
    "   \n",
    "    if n is not None: errors = errors[:n]\n",
    "            \n",
    "    for (tag, guess, name) in sorted(errors): \n",
    "        print('correct=%-8s guess=%-8s name=%-30s' %(tag, guess, name))"
   ]
  },
  {
   "cell_type": "markdown",
   "metadata": {},
   "source": [
    "### Gender Identification Models (Try Some Models)"
   ]
  },
  {
   "cell_type": "markdown",
   "metadata": {},
   "source": [
    "###  NaiveBayes\n",
    "#### Gender Classification Model 1"
   ]
  },
  {
   "cell_type": "code",
   "execution_count": 9,
   "metadata": {
    "collapsed": true
   },
   "outputs": [],
   "source": [
    "# apply the first gender_feature extractor function from the book the the three datasets\n",
    "train_set = [(gender_features(n), g)  for (n, g) in train_names]\n",
    "devtest_set = [(gender_features(n), g)  for (n, g) in devtest_names]\n",
    "test_set = [(gender_features(n), g)  for (n, g) in test_names]"
   ]
  },
  {
   "cell_type": "code",
   "execution_count": 10,
   "metadata": {
    "collapsed": true
   },
   "outputs": [],
   "source": [
    "classifier = nltk.NaiveBayesClassifier.train(train_set) "
   ]
  },
  {
   "cell_type": "code",
   "execution_count": 11,
   "metadata": {},
   "outputs": [
    {
     "name": "stdout",
     "output_type": "stream",
     "text": [
      "Most Informative Features\n",
      "             last_letter = u'a'           female : male   =     35.2 : 1.0\n",
      "             last_letter = u'k'             male : female =     29.1 : 1.0\n",
      "             last_letter = u'f'             male : female =     15.2 : 1.0\n",
      "             last_letter = u'p'             male : female =     11.1 : 1.0\n",
      "             last_letter = u'm'             male : female =      9.4 : 1.0\n"
     ]
    }
   ],
   "source": [
    "# Examine the likelihood ratios\n",
    "classifier.show_most_informative_features(5)"
   ]
  },
  {
   "cell_type": "code",
   "execution_count": 12,
   "metadata": {},
   "outputs": [
    {
     "name": "stdout",
     "output_type": "stream",
     "text": [
      "0.762\n"
     ]
    }
   ],
   "source": [
    "print(nltk.classify.accuracy(classifier, devtest_set))"
   ]
  },
  {
   "cell_type": "code",
   "execution_count": 13,
   "metadata": {},
   "outputs": [
    {
     "name": "stdout",
     "output_type": "stream",
     "text": [
      "correct=female   guess=male     name=Adel                          \n",
      "correct=female   guess=male     name=Aleen                         \n",
      "correct=female   guess=male     name=Alexis                        \n",
      "correct=female   guess=male     name=Allison                       \n",
      "correct=female   guess=male     name=Allyn                         \n",
      "correct=female   guess=male     name=Amber                         \n",
      "correct=female   guess=male     name=Babs                          \n",
      "correct=female   guess=male     name=Caitlin                       \n",
      "correct=female   guess=male     name=Caril                         \n",
      "correct=female   guess=male     name=Charmion                      \n",
      "correct=female   guess=male     name=Charo                         \n",
      "correct=female   guess=male     name=Christen                      \n",
      "correct=female   guess=male     name=Christian                     \n",
      "correct=female   guess=male     name=Chrystal                      \n",
      "correct=female   guess=male     name=Ciel                          \n",
      "correct=female   guess=male     name=Claribel                      \n",
      "correct=female   guess=male     name=Coralyn                       \n",
      "correct=female   guess=male     name=Devan                         \n",
      "correct=female   guess=male     name=Doll                          \n",
      "correct=female   guess=male     name=Dorcas                        \n",
      "correct=female   guess=male     name=Eryn                          \n",
      "correct=female   guess=male     name=Ethelin                       \n",
      "correct=female   guess=male     name=Floris                        \n",
      "correct=female   guess=male     name=Glynnis                       \n",
      "correct=female   guess=male     name=Gunvor                        \n",
      "correct=female   guess=male     name=Harriett                      \n",
      "correct=female   guess=male     name=Harriott                      \n",
      "correct=female   guess=male     name=Ingaborg                      \n",
      "correct=female   guess=male     name=Jacquelynn                    \n",
      "correct=female   guess=male     name=Janifer                       \n",
      "correct=female   guess=male     name=Jeniffer                      \n",
      "correct=female   guess=male     name=Jolyn                         \n",
      "correct=female   guess=male     name=Kara-Lynn                     \n",
      "correct=female   guess=male     name=Karel                         \n",
      "correct=female   guess=male     name=Karyl                         \n",
      "correct=female   guess=male     name=Katheryn                      \n",
      "correct=female   guess=male     name=Kaylyn                        \n",
      "correct=female   guess=male     name=Kim                           \n",
      "correct=female   guess=male     name=Linell                        \n",
      "correct=female   guess=male     name=Lust                          \n",
      "correct=female   guess=male     name=Madelin                       \n",
      "correct=female   guess=male     name=Margot                        \n",
      "correct=female   guess=male     name=Mariellen                     \n",
      "correct=female   guess=male     name=Marilin                       \n",
      "correct=female   guess=male     name=Marion                        \n",
      "correct=female   guess=male     name=Melisent                      \n",
      "correct=female   guess=male     name=Michell                       \n",
      "correct=female   guess=male     name=Mikako                        \n",
      "correct=female   guess=male     name=Miriam                        \n",
      "correct=female   guess=male     name=Noel                          \n",
      "correct=female   guess=male     name=Phylis                        \n",
      "correct=female   guess=male     name=Rachael                       \n",
      "correct=female   guess=male     name=Sharron                       \n",
      "correct=female   guess=male     name=Sharyl                        \n",
      "correct=female   guess=male     name=Sheryl                        \n",
      "correct=female   guess=male     name=Sibel                         \n",
      "correct=female   guess=male     name=Ted                           \n",
      "correct=female   guess=male     name=Teriann                       \n",
      "correct=female   guess=male     name=Velvet                        \n",
      "correct=male     guess=female   name=Ajai                          \n",
      "correct=male     guess=female   name=Alfie                         \n",
      "correct=male     guess=female   name=Ambrose                       \n",
      "correct=male     guess=female   name=Amery                         \n",
      "correct=male     guess=female   name=Amory                         \n",
      "correct=male     guess=female   name=Anatoly                       \n",
      "correct=male     guess=female   name=Andre                         \n",
      "correct=male     guess=female   name=Antoine                       \n",
      "correct=male     guess=female   name=Aubrey                        \n",
      "correct=male     guess=female   name=Bailey                        \n",
      "correct=male     guess=female   name=Bary                          \n",
      "correct=male     guess=female   name=Bay                           \n",
      "correct=male     guess=female   name=Bertie                        \n",
      "correct=male     guess=female   name=Bobby                         \n",
      "correct=male     guess=female   name=Broddie                       \n",
      "correct=male     guess=female   name=Bubba                         \n",
      "correct=male     guess=female   name=Cary                          \n",
      "correct=male     guess=female   name=Chevy                         \n",
      "correct=male     guess=female   name=Clarke                        \n",
      "correct=male     guess=female   name=Clive                         \n",
      "correct=male     guess=female   name=Cobbie                        \n",
      "correct=male     guess=female   name=Dave                          \n",
      "correct=male     guess=female   name=Doyle                         \n",
      "correct=male     guess=female   name=Georgy                        \n",
      "correct=male     guess=female   name=Gerome                        \n",
      "correct=male     guess=female   name=Giffy                         \n",
      "correct=male     guess=female   name=Greggory                      \n",
      "correct=male     guess=female   name=Hadleigh                      \n",
      "correct=male     guess=female   name=Harry                         \n",
      "correct=male     guess=female   name=Harvey                        \n",
      "correct=male     guess=female   name=Hurley                        \n",
      "correct=male     guess=female   name=Ikey                          \n",
      "correct=male     guess=female   name=Irvine                        \n",
      "correct=male     guess=female   name=Isadore                       \n",
      "correct=male     guess=female   name=Jeffry                        \n",
      "correct=male     guess=female   name=Jeremy                        \n",
      "correct=male     guess=female   name=Jessey                        \n",
      "correct=male     guess=female   name=Keefe                         \n",
      "correct=male     guess=female   name=Kermie                        \n",
      "correct=male     guess=female   name=Lane                          \n",
      "correct=male     guess=female   name=Marsh                         \n",
      "correct=male     guess=female   name=Mendie                        \n",
      "correct=male     guess=female   name=Moe                           \n",
      "correct=male     guess=female   name=Neddy                         \n",
      "correct=male     guess=female   name=Noe                           \n",
      "correct=male     guess=female   name=Rey                           \n",
      "correct=male     guess=female   name=Timothy                       \n",
      "correct=male     guess=female   name=Tome                          \n",
      "correct=male     guess=female   name=Torey                         \n",
      "correct=male     guess=female   name=Torry                         \n",
      "correct=male     guess=female   name=Tremayne                      \n",
      "correct=male     guess=female   name=Tully                         \n",
      "correct=male     guess=female   name=Udale                         \n",
      "correct=male     guess=female   name=Vasily                        \n",
      "correct=male     guess=female   name=Voltaire                      \n",
      "correct=male     guess=female   name=Ware                          \n",
      "correct=male     guess=female   name=Waverley                      \n",
      "correct=male     guess=female   name=Waverly                       \n",
      "correct=male     guess=female   name=Westley                       \n",
      "correct=male     guess=female   name=Zebedee                       \n"
     ]
    }
   ],
   "source": [
    "# display the classification errors\n",
    "# calls the helper functions above\n",
    "show_errors(generate_errors(classifier, devtest_names, gender_features))"
   ]
  },
  {
   "cell_type": "markdown",
   "metadata": {},
   "source": [
    "#### Gender Classification Model 2"
   ]
  },
  {
   "cell_type": "code",
   "execution_count": 14,
   "metadata": {},
   "outputs": [
    {
     "name": "stdout",
     "output_type": "stream",
     "text": [
      "0.786\n"
     ]
    }
   ],
   "source": [
    "# apply the gender_feature3 extractor function from the book the the three datasets\n",
    "\n",
    "train_set = [(gender_features3(n), g)  for (n, g) in train_names]\n",
    "devtest_set = [(gender_features3(n), g)  for (n, g) in devtest_names]\n",
    "test_set = [(gender_features3(n), g)  for (n, g) in test_names]\n",
    "\n",
    "classifier = nltk.NaiveBayesClassifier.train(train_set) \n",
    "\n",
    "## accuracy\n",
    "print(nltk.classify.accuracy(classifier, devtest_set))"
   ]
  },
  {
   "cell_type": "code",
   "execution_count": 15,
   "metadata": {
    "scrolled": true
   },
   "outputs": [
    {
     "name": "stdout",
     "output_type": "stream",
     "text": [
      "Most Informative Features\n",
      "              lastletter = u'a'           female : male   =     35.2 : 1.0\n",
      "              lastletter = u'k'             male : female =     29.1 : 1.0\n",
      "              lastletter = u'f'             male : female =     15.2 : 1.0\n",
      "              lastletter = u'p'             male : female =     11.1 : 1.0\n",
      "              lastletter = u'm'             male : female =      9.4 : 1.0\n",
      "                count(v) = 2              female : male   =      9.3 : 1.0\n",
      "              lastletter = u'd'             male : female =      9.1 : 1.0\n",
      "              lastletter = u'o'             male : female =      9.0 : 1.0\n",
      "              lastletter = u'v'             male : female =      8.4 : 1.0\n",
      "              lastletter = u'g'             male : female =      7.6 : 1.0\n",
      "              lastletter = u'r'             male : female =      6.7 : 1.0\n",
      "              lastletter = u'w'             male : female =      5.1 : 1.0\n",
      "             firstletter = u'w'             male : female =      4.7 : 1.0\n",
      "                count(w) = 1                male : female =      4.3 : 1.0\n",
      "                  has(w) = True             male : female =      4.3 : 1.0\n",
      "              lastletter = u's'             male : female =      4.2 : 1.0\n",
      "                count(a) = 3              female : male   =      4.1 : 1.0\n",
      "              lastletter = u't'             male : female =      4.0 : 1.0\n",
      "              lastletter = u'i'           female : male   =      3.6 : 1.0\n",
      "                count(i) = 3                male : female =      3.6 : 1.0\n"
     ]
    }
   ],
   "source": [
    "# Examine the likelihood ratios\n",
    "classifier.show_most_informative_features(20)"
   ]
  },
  {
   "cell_type": "code",
   "execution_count": 16,
   "metadata": {
    "scrolled": true
   },
   "outputs": [
    {
     "name": "stdout",
     "output_type": "stream",
     "text": [
      "correct=female   guess=male     name=Amber                         \n",
      "correct=female   guess=male     name=Ardyth                        \n",
      "correct=female   guess=male     name=Betsy                         \n",
      "correct=female   guess=male     name=Christen                      \n",
      "correct=female   guess=male     name=Dorcas                        \n",
      "correct=female   guess=male     name=Gerry                         \n",
      "correct=female   guess=male     name=Guenevere                     \n",
      "correct=female   guess=male     name=Gunvor                        \n",
      "correct=female   guess=male     name=Honey                         \n",
      "correct=female   guess=male     name=Margot                        \n",
      "correct=female   guess=male     name=Meridith                      \n",
      "correct=female   guess=male     name=Mikako                        \n",
      "correct=female   guess=male     name=Odette                        \n",
      "correct=female   guess=male     name=Tobie                         \n",
      "correct=female   guess=male     name=Wendy                         \n",
      "correct=female   guess=male     name=Wilhelmine                    \n",
      "correct=female   guess=male     name=Winni                         \n",
      "correct=male     guess=female   name=Aleks                         \n",
      "correct=male     guess=female   name=Anatoly                       \n",
      "correct=male     guess=female   name=Bailey                        \n",
      "correct=male     guess=female   name=Bay                           \n",
      "correct=male     guess=female   name=Bertie                        \n",
      "correct=male     guess=female   name=Blair                         \n",
      "correct=male     guess=female   name=Darryl                        \n",
      "correct=male     guess=female   name=Dell                          \n",
      "correct=male     guess=female   name=Gavriel                       \n",
      "correct=male     guess=female   name=Keefe                         \n",
      "correct=male     guess=female   name=Lane                          \n",
      "correct=male     guess=female   name=Sanson                        \n",
      "correct=male     guess=female   name=Udale                         \n"
     ]
    }
   ],
   "source": [
    "show_errors(generate_errors(classifier, devtest_names, gender_features3), 30)"
   ]
  },
  {
   "cell_type": "markdown",
   "metadata": {},
   "source": [
    "#### Gender Classification Model 3"
   ]
  },
  {
   "cell_type": "code",
   "execution_count": 17,
   "metadata": {},
   "outputs": [
    {
     "name": "stdout",
     "output_type": "stream",
     "text": [
      "0.798\n"
     ]
    }
   ],
   "source": [
    "# apply the gender_feature4 extractor function from the book the the three datasets\n",
    "\n",
    "train_set = [(gender_features4(n), g)  for (n, g) in train_names]\n",
    "devtest_set = [(gender_features4(n), g)  for (n, g) in devtest_names]\n",
    "test_set = [(gender_features4(n), g)  for (n, g) in test_names]\n",
    "\n",
    "classifier = nltk.NaiveBayesClassifier.train(train_set) \n",
    "\n",
    "## accuracy\n",
    "print(nltk.classify.accuracy(classifier, devtest_set))"
   ]
  },
  {
   "cell_type": "code",
   "execution_count": 18,
   "metadata": {},
   "outputs": [
    {
     "name": "stdout",
     "output_type": "stream",
     "text": [
      "Most Informative Features\n",
      "                 suffix2 = u'na'          female : male   =     95.2 : 1.0\n",
      "                 suffix2 = u'la'          female : male   =     72.8 : 1.0\n",
      "                 suffix2 = u'ia'          female : male   =     37.9 : 1.0\n",
      "                 suffix1 = u'a'           female : male   =     35.2 : 1.0\n",
      "                 suffix2 = u'ra'          female : male   =     35.0 : 1.0\n",
      "                 suffix2 = u'sa'          female : male   =     34.9 : 1.0\n",
      "                 suffix1 = u'k'             male : female =     29.1 : 1.0\n",
      "                 suffix2 = u'us'            male : female =     24.8 : 1.0\n",
      "                 suffix2 = u'ta'          female : male   =     24.1 : 1.0\n",
      "                 suffix2 = u'rd'            male : female =     24.1 : 1.0\n",
      "                 suffix2 = u'rt'            male : female =     21.0 : 1.0\n",
      "                 suffix2 = u'ld'            male : female =     19.5 : 1.0\n",
      "                 suffix2 = u'os'            male : female =     18.2 : 1.0\n",
      "                 suffix1 = u'f'             male : female =     15.2 : 1.0\n",
      "                 suffix2 = u'io'            male : female =     14.9 : 1.0\n",
      "                 suffix2 = u'ch'            male : female =     14.2 : 1.0\n",
      "                 suffix2 = u'im'            male : female =     12.7 : 1.0\n",
      "                 suffix2 = u'ro'            male : female =     12.7 : 1.0\n",
      "                 suffix2 = u'ka'          female : male   =     12.3 : 1.0\n",
      "                 suffix2 = u'as'            male : female =     11.9 : 1.0\n"
     ]
    }
   ],
   "source": [
    "# Examine the likelihood ratios\n",
    "classifier.show_most_informative_features(20)"
   ]
  },
  {
   "cell_type": "code",
   "execution_count": 19,
   "metadata": {},
   "outputs": [
    {
     "name": "stdout",
     "output_type": "stream",
     "text": [
      "correct=female   guess=male     name=Adel                          \n",
      "correct=female   guess=male     name=Allison                       \n",
      "correct=female   guess=male     name=Amber                         \n",
      "correct=female   guess=male     name=Ardyth                        \n",
      "correct=female   guess=male     name=Caril                         \n",
      "correct=female   guess=male     name=Charo                         \n",
      "correct=female   guess=male     name=Christen                      \n",
      "correct=female   guess=male     name=Dorcas                        \n",
      "correct=female   guess=male     name=Gerry                         \n",
      "correct=female   guess=male     name=Gunvor                        \n",
      "correct=female   guess=male     name=Jaleh                         \n",
      "correct=female   guess=male     name=Karel                         \n",
      "correct=female   guess=male     name=Linell                        \n",
      "correct=female   guess=male     name=Lisabeth                      \n",
      "correct=female   guess=male     name=Margot                        \n",
      "correct=female   guess=male     name=Meridith                      \n",
      "correct=male     guess=female   name=Ambrose                       \n",
      "correct=male     guess=female   name=Anatoly                       \n",
      "correct=male     guess=female   name=Aubrey                        \n",
      "correct=male     guess=female   name=Bailey                        \n",
      "correct=male     guess=female   name=Bertie                        \n",
      "correct=male     guess=female   name=Darryl                        \n",
      "correct=male     guess=female   name=Doyle                         \n",
      "correct=male     guess=female   name=Georgy                        \n",
      "correct=male     guess=female   name=Harvey                        \n",
      "correct=male     guess=female   name=Isadore                       \n",
      "correct=male     guess=female   name=Lane                          \n",
      "correct=male     guess=female   name=Tome                          \n",
      "correct=male     guess=female   name=Udale                         \n",
      "correct=male     guess=female   name=Waverly                       \n"
     ]
    }
   ],
   "source": [
    "show_errors(generate_errors(classifier, devtest_names, gender_features4), 30)"
   ]
  },
  {
   "cell_type": "markdown",
   "metadata": {},
   "source": [
    "###  Decision Tree\n",
    "#### Gender Classification Model 4"
   ]
  },
  {
   "cell_type": "code",
   "execution_count": 20,
   "metadata": {},
   "outputs": [
    {
     "name": "stdout",
     "output_type": "stream",
     "text": [
      "0.762\n"
     ]
    }
   ],
   "source": [
    "# apply the first gender_feature extractor function from the book the the three datasets\n",
    "train_set = [(gender_features(n), g)  for (n, g) in train_names]\n",
    "devtest_set = [(gender_features(n), g)  for (n, g) in devtest_names]\n",
    "test_set = [(gender_features(n), g)  for (n, g) in test_names]\n",
    "classifier = nltk.DecisionTreeClassifier.train(train_set)\n",
    "print(nltk.classify.accuracy(classifier, devtest_set))"
   ]
  },
  {
   "cell_type": "code",
   "execution_count": 21,
   "metadata": {},
   "outputs": [
    {
     "name": "stdout",
     "output_type": "stream",
     "text": [
      "correct=female   guess=male     name=Adel                          \n",
      "correct=female   guess=male     name=Aleen                         \n",
      "correct=female   guess=male     name=Alexis                        \n",
      "correct=female   guess=male     name=Allison                       \n",
      "correct=female   guess=male     name=Allyn                         \n",
      "correct=female   guess=male     name=Amber                         \n",
      "correct=female   guess=male     name=Babs                          \n",
      "correct=female   guess=male     name=Caitlin                       \n",
      "correct=female   guess=male     name=Caril                         \n",
      "correct=female   guess=male     name=Charmion                      \n",
      "correct=female   guess=male     name=Charo                         \n",
      "correct=female   guess=male     name=Christen                      \n",
      "correct=female   guess=male     name=Christian                     \n",
      "correct=female   guess=male     name=Chrystal                      \n",
      "correct=female   guess=male     name=Ciel                          \n",
      "correct=female   guess=male     name=Claribel                      \n",
      "correct=female   guess=male     name=Coralyn                       \n",
      "correct=female   guess=male     name=Devan                         \n",
      "correct=female   guess=male     name=Doll                          \n",
      "correct=female   guess=male     name=Dorcas                        \n",
      "correct=female   guess=male     name=Eryn                          \n",
      "correct=female   guess=male     name=Ethelin                       \n",
      "correct=female   guess=male     name=Floris                        \n",
      "correct=female   guess=male     name=Glynnis                       \n",
      "correct=female   guess=male     name=Gunvor                        \n",
      "correct=female   guess=male     name=Harriett                      \n",
      "correct=female   guess=male     name=Harriott                      \n",
      "correct=female   guess=male     name=Ingaborg                      \n",
      "correct=female   guess=male     name=Jacquelynn                    \n",
      "correct=female   guess=male     name=Janifer                       \n",
      "correct=female   guess=male     name=Jeniffer                      \n",
      "correct=female   guess=male     name=Jolyn                         \n",
      "correct=female   guess=male     name=Kara-Lynn                     \n",
      "correct=female   guess=male     name=Karel                         \n",
      "correct=female   guess=male     name=Karyl                         \n",
      "correct=female   guess=male     name=Katheryn                      \n",
      "correct=female   guess=male     name=Kaylyn                        \n",
      "correct=female   guess=male     name=Kim                           \n",
      "correct=female   guess=male     name=Linell                        \n",
      "correct=female   guess=male     name=Lust                          \n",
      "correct=female   guess=male     name=Madelin                       \n",
      "correct=female   guess=male     name=Margot                        \n",
      "correct=female   guess=male     name=Mariellen                     \n",
      "correct=female   guess=male     name=Marilin                       \n",
      "correct=female   guess=male     name=Marion                        \n",
      "correct=female   guess=male     name=Melisent                      \n",
      "correct=female   guess=male     name=Michell                       \n",
      "correct=female   guess=male     name=Mikako                        \n",
      "correct=female   guess=male     name=Miriam                        \n",
      "correct=female   guess=male     name=Noel                          \n",
      "correct=female   guess=male     name=Phylis                        \n",
      "correct=female   guess=male     name=Rachael                       \n",
      "correct=female   guess=male     name=Sharron                       \n",
      "correct=female   guess=male     name=Sharyl                        \n",
      "correct=female   guess=male     name=Sheryl                        \n",
      "correct=female   guess=male     name=Sibel                         \n",
      "correct=female   guess=male     name=Ted                           \n",
      "correct=female   guess=male     name=Teriann                       \n",
      "correct=female   guess=male     name=Velvet                        \n",
      "correct=male     guess=female   name=Ajai                          \n",
      "correct=male     guess=female   name=Alfie                         \n",
      "correct=male     guess=female   name=Ambrose                       \n",
      "correct=male     guess=female   name=Amery                         \n",
      "correct=male     guess=female   name=Amory                         \n",
      "correct=male     guess=female   name=Anatoly                       \n",
      "correct=male     guess=female   name=Andre                         \n",
      "correct=male     guess=female   name=Antoine                       \n",
      "correct=male     guess=female   name=Aubrey                        \n",
      "correct=male     guess=female   name=Bailey                        \n",
      "correct=male     guess=female   name=Bary                          \n",
      "correct=male     guess=female   name=Bay                           \n",
      "correct=male     guess=female   name=Bertie                        \n",
      "correct=male     guess=female   name=Bobby                         \n",
      "correct=male     guess=female   name=Broddie                       \n",
      "correct=male     guess=female   name=Bubba                         \n",
      "correct=male     guess=female   name=Cary                          \n",
      "correct=male     guess=female   name=Chevy                         \n",
      "correct=male     guess=female   name=Clarke                        \n",
      "correct=male     guess=female   name=Clive                         \n",
      "correct=male     guess=female   name=Cobbie                        \n",
      "correct=male     guess=female   name=Dave                          \n",
      "correct=male     guess=female   name=Doyle                         \n",
      "correct=male     guess=female   name=Georgy                        \n",
      "correct=male     guess=female   name=Gerome                        \n",
      "correct=male     guess=female   name=Giffy                         \n",
      "correct=male     guess=female   name=Greggory                      \n",
      "correct=male     guess=female   name=Hadleigh                      \n",
      "correct=male     guess=female   name=Harry                         \n",
      "correct=male     guess=female   name=Harvey                        \n",
      "correct=male     guess=female   name=Hurley                        \n",
      "correct=male     guess=female   name=Ikey                          \n",
      "correct=male     guess=female   name=Irvine                        \n",
      "correct=male     guess=female   name=Isadore                       \n",
      "correct=male     guess=female   name=Jeffry                        \n",
      "correct=male     guess=female   name=Jeremy                        \n",
      "correct=male     guess=female   name=Jessey                        \n",
      "correct=male     guess=female   name=Keefe                         \n",
      "correct=male     guess=female   name=Kermie                        \n",
      "correct=male     guess=female   name=Lane                          \n",
      "correct=male     guess=female   name=Marsh                         \n",
      "correct=male     guess=female   name=Mendie                        \n",
      "correct=male     guess=female   name=Moe                           \n",
      "correct=male     guess=female   name=Neddy                         \n",
      "correct=male     guess=female   name=Noe                           \n",
      "correct=male     guess=female   name=Rey                           \n",
      "correct=male     guess=female   name=Timothy                       \n",
      "correct=male     guess=female   name=Tome                          \n",
      "correct=male     guess=female   name=Torey                         \n",
      "correct=male     guess=female   name=Torry                         \n",
      "correct=male     guess=female   name=Tremayne                      \n",
      "correct=male     guess=female   name=Tully                         \n",
      "correct=male     guess=female   name=Udale                         \n",
      "correct=male     guess=female   name=Vasily                        \n",
      "correct=male     guess=female   name=Voltaire                      \n",
      "correct=male     guess=female   name=Ware                          \n",
      "correct=male     guess=female   name=Waverley                      \n",
      "correct=male     guess=female   name=Waverly                       \n",
      "correct=male     guess=female   name=Westley                       \n",
      "correct=male     guess=female   name=Zebedee                       \n"
     ]
    }
   ],
   "source": [
    "# display the classification errors\n",
    "# calls the helper functions above\n",
    "show_errors(generate_errors(classifier, devtest_names, gender_features))"
   ]
  },
  {
   "cell_type": "markdown",
   "metadata": {},
   "source": [
    "#### Gender Classification Model 5"
   ]
  },
  {
   "cell_type": "code",
   "execution_count": 22,
   "metadata": {},
   "outputs": [
    {
     "name": "stdout",
     "output_type": "stream",
     "text": [
      "0.818\n"
     ]
    }
   ],
   "source": [
    "# apply the gender_feature3 extractor function from the book the the three datasets\n",
    "\n",
    "train_set = [(gender_features3(n), g)  for (n, g) in train_names]\n",
    "devtest_set = [(gender_features3(n), g)  for (n, g) in devtest_names]\n",
    "test_set = [(gender_features3(n), g)  for (n, g) in test_names]\n",
    "\n",
    "classifier = nltk.DecisionTreeClassifier.train(train_set)\n",
    "\n",
    "## accuracy\n",
    "print(nltk.classify.accuracy(classifier, devtest_set))"
   ]
  },
  {
   "cell_type": "code",
   "execution_count": 23,
   "metadata": {},
   "outputs": [
    {
     "name": "stdout",
     "output_type": "stream",
     "text": [
      "correct=female   guess=male     name=Adel                          \n",
      "correct=female   guess=male     name=Allison                       \n",
      "correct=female   guess=male     name=Blakelee                      \n",
      "correct=female   guess=male     name=Gerry                         \n",
      "correct=female   guess=male     name=Guenevere                     \n",
      "correct=female   guess=male     name=Gunvor                        \n",
      "correct=female   guess=male     name=Honey                         \n",
      "correct=female   guess=male     name=Jaleh                         \n",
      "correct=female   guess=male     name=Jilly                         \n",
      "correct=female   guess=male     name=Marjorie                      \n",
      "correct=female   guess=male     name=Meridith                      \n",
      "correct=female   guess=male     name=Misty                         \n",
      "correct=female   guess=male     name=Odette                        \n",
      "correct=female   guess=male     name=Tally                         \n",
      "correct=female   guess=male     name=Teriann                       \n",
      "correct=female   guess=male     name=Wilhelmine                    \n",
      "correct=male     guess=female   name=Aleks                         \n",
      "correct=male     guess=female   name=Ambrose                       \n",
      "correct=male     guess=female   name=Bay                           \n",
      "correct=male     guess=female   name=Bertie                        \n",
      "correct=male     guess=female   name=Blair                         \n",
      "correct=male     guess=female   name=Dell                          \n",
      "correct=male     guess=female   name=Dexter                        \n",
      "correct=male     guess=female   name=Gavriel                       \n",
      "correct=male     guess=female   name=Harry                         \n",
      "correct=male     guess=female   name=Jefferson                     \n",
      "correct=male     guess=female   name=Keefe                         \n",
      "correct=male     guess=female   name=Lane                          \n",
      "correct=male     guess=female   name=Neron                         \n",
      "correct=male     guess=female   name=Udale                         \n"
     ]
    }
   ],
   "source": [
    "show_errors(generate_errors(classifier, devtest_names, gender_features3), 30)"
   ]
  },
  {
   "cell_type": "markdown",
   "metadata": {
    "collapsed": true
   },
   "source": [
    "#### Gender Classification Model 6"
   ]
  },
  {
   "cell_type": "code",
   "execution_count": 24,
   "metadata": {},
   "outputs": [
    {
     "name": "stdout",
     "output_type": "stream",
     "text": [
      "0.806\n"
     ]
    }
   ],
   "source": [
    "# apply the gender_feature4 extractor function from the book the the three datasets\n",
    "\n",
    "train_set = [(gender_features4(n), g)  for (n, g) in train_names]\n",
    "devtest_set = [(gender_features4(n), g)  for (n, g) in devtest_names]\n",
    "test_set = [(gender_features4(n), g)  for (n, g) in test_names]\n",
    "\n",
    "classifier = nltk.DecisionTreeClassifier.train(train_set)\n",
    "\n",
    "## accuracy\n",
    "print(nltk.classify.accuracy(classifier, devtest_set))"
   ]
  },
  {
   "cell_type": "code",
   "execution_count": 25,
   "metadata": {},
   "outputs": [
    {
     "name": "stdout",
     "output_type": "stream",
     "text": [
      "correct=female   guess=male     name=Allison                       \n",
      "correct=female   guess=male     name=Amber                         \n",
      "correct=female   guess=male     name=Caril                         \n",
      "correct=female   guess=male     name=Charo                         \n",
      "correct=female   guess=male     name=Chloe                         \n",
      "correct=female   guess=male     name=Dorcas                        \n",
      "correct=female   guess=male     name=Gunvor                        \n",
      "correct=female   guess=male     name=Joice                         \n",
      "correct=female   guess=male     name=Linell                        \n",
      "correct=female   guess=male     name=Lust                          \n",
      "correct=female   guess=male     name=Margot                        \n",
      "correct=female   guess=male     name=Nance                         \n",
      "correct=male     guess=female   name=Ambrose                       \n",
      "correct=male     guess=female   name=Anatoly                       \n",
      "correct=male     guess=female   name=Aubrey                        \n",
      "correct=male     guess=female   name=Bailey                        \n",
      "correct=male     guess=female   name=Bertie                        \n",
      "correct=male     guess=female   name=Darryl                        \n",
      "correct=male     guess=female   name=Doyle                         \n",
      "correct=male     guess=female   name=Gavriel                       \n",
      "correct=male     guess=female   name=Georgy                        \n",
      "correct=male     guess=female   name=Harry                         \n",
      "correct=male     guess=female   name=Harvey                        \n",
      "correct=male     guess=female   name=Isadore                       \n",
      "correct=male     guess=female   name=Jeffry                        \n",
      "correct=male     guess=female   name=Lane                          \n",
      "correct=male     guess=female   name=Neddy                         \n",
      "correct=male     guess=female   name=Udale                         \n",
      "correct=male     guess=female   name=Waverly                       \n",
      "correct=male     guess=female   name=Willis                        \n"
     ]
    }
   ],
   "source": [
    "show_errors(generate_errors(classifier, devtest_names, gender_features4), 30)"
   ]
  },
  {
   "cell_type": "markdown",
   "metadata": {},
   "source": [
    "### Model Selection (Choose Best Candidate) \n",
    "\n",
    "#### Check the model's final performance on the test set. \n",
    "\n",
    "#### How does the performance on the test set compare to the performance on the dev-test set? \n",
    "\n",
    "#### Is this what you'd expect?"
   ]
  },
  {
   "cell_type": "code",
   "execution_count": null,
   "metadata": {
    "collapsed": true
   },
   "outputs": [],
   "source": []
  }
 ],
 "metadata": {
  "anaconda-cloud": {},
  "kernelspec": {
   "display_name": "Python [default]",
   "language": "python",
   "name": "python2"
  },
  "language_info": {
   "codemirror_mode": {
    "name": "ipython",
    "version": 2
   },
   "file_extension": ".py",
   "mimetype": "text/x-python",
   "name": "python",
   "nbconvert_exporter": "python",
   "pygments_lexer": "ipython2",
   "version": "2.7.13"
  }
 },
 "nbformat": 4,
 "nbformat_minor": 2
}
